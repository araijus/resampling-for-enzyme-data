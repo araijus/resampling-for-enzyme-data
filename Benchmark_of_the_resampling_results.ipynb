{
  "nbformat": 4,
  "nbformat_minor": 0,
  "metadata": {
    "colab": {
      "provenance": []
    },
    "kernelspec": {
      "name": "python3",
      "display_name": "Python 3"
    },
    "language_info": {
      "name": "python"
    }
  },
  "cells": [
    {
      "cell_type": "markdown",
      "source": [
        "This notebook includes a benchmark of performances of the applied models (Random Forest, Gradient Boosted Trees and Light Gradient Boosting Machines) applied for 4 resampled testing sets (RO, GN, SMOTE, ADASYN) and the original testing set (with 500 features selected by Information Gain). Lastly, random forest model's performance is tested across 3 intervals of Topt (8-29°C, 30-36°C, 37-99°C).\n"
      ],
      "metadata": {
        "id": "3rEdw5f8KHGs"
      }
    },
    {
      "cell_type": "markdown",
      "source": [
        "# **Benchmark of performances of the applied models**"
      ],
      "metadata": {
        "id": "b-k_yuAU7WT-"
      }
    },
    {
      "cell_type": "code",
      "execution_count": null,
      "metadata": {
        "colab": {
          "base_uri": "https://localhost:8080/"
        },
        "id": "c0HKJuow524r",
        "outputId": "d00a4dd6-9319-492a-bae0-6cd3b8a6235a"
      },
      "outputs": [
        {
          "name": "stdout",
          "output_type": "stream",
          "text": [
            "3.3.5\n"
          ]
        }
      ],
      "source": [
        "# check lightgbm version\n",
        "import lightgbm\n",
        "print(lightgbm.__version__)"
      ]
    },
    {
      "cell_type": "code",
      "source": [],
      "metadata": {
        "id": "b0yid-tjxpti"
      },
      "execution_count": null,
      "outputs": []
    },
    {
      "cell_type": "markdown",
      "source": [
        "# **The model's performace across 3 intervals**"
      ],
      "metadata": {
        "id": "DFeIA8sQQ3j3"
      }
    },
    {
      "cell_type": "markdown",
      "source": [
        "To check the performances of random forests model across 3 intervals (8-29°C, 30-36°C, 37-99°C) (chosen in Data discretization notebook). The idea is to check whether any of the resampling technique can offer a decrease in mean squared errors (MSE) across intervals."
      ],
      "metadata": {
        "id": "Zr-T9A3dR5Pb"
      }
    },
    {
      "cell_type": "code",
      "source": [],
      "metadata": {
        "id": "1YXsxO3C7Pfi"
      },
      "execution_count": null,
      "outputs": []
    }
  ]
}