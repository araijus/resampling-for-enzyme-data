{
  "nbformat": 4,
  "nbformat_minor": 0,
  "metadata": {
    "colab": {
      "provenance": [],
      "toc_visible": true
    },
    "kernelspec": {
      "name": "python3",
      "display_name": "Python 3"
    },
    "language_info": {
      "name": "python"
    }
  },
  "cells": [
    {
      "cell_type": "markdown",
      "source": [
        "This notebook includes a benchmark of performances of the applied models (Random Forest, Gradient Boosted Trees and Light Gradient Boosting Machines) applied for 4 resampled testing sets (RO, GN, SMOTE, ADASYN) and the original testing set (with 500 features selected by Information Gain). Lastly, random forest model's performance is tested across 3 intervals of Topt (8-29°C, 30-36°C, 37-99°C).\n"
      ],
      "metadata": {
        "id": "3rEdw5f8KHGs"
      }
    },
    {
      "cell_type": "markdown",
      "source": [
        "# **Import libraries and data**"
      ],
      "metadata": {
        "id": "Bp_MLz48DFRG"
      }
    },
    {
      "cell_type": "code",
      "execution_count": null,
      "metadata": {
        "id": "PSa4mik1BJrE"
      },
      "outputs": [],
      "source": [
        "import pandas as pd\n",
        "import numpy as np\n",
        "from sklearn.model_selection import train_test_split\n",
        "from sklearn.ensemble import RandomForestRegressor\n",
        "from sklearn.ensemble import GradientBoostingRegressor\n",
        "from lightgbm import LGBMRegressor\n",
        "from sklearn.metrics import r2_score, mean_absolute_error, mean_squared_error\n",
        "from sklearn.pipeline import Pipeline\n",
        "import lightgbm\n",
        "import glob"
      ]
    },
    {
      "cell_type": "code",
      "execution_count": null,
      "metadata": {
        "colab": {
          "base_uri": "https://localhost:8080/"
        },
        "id": "gza9MqkaBJ01",
        "outputId": "68139e31-8300-414e-df3c-0211814593f3"
      },
      "outputs": [
        {
          "output_type": "stream",
          "name": "stdout",
          "text": [
            "Drive already mounted at /content/drive; to attempt to forcibly remount, call drive.mount(\"/content/drive\", force_remount=True).\n"
          ]
        }
      ],
      "source": [
        "from google.colab import drive\n",
        "drive.mount(\"/content/drive\")"
      ]
    },
    {
      "cell_type": "code",
      "source": [
        "#read 4 resampled testing sets (RO, GN, SMOTE, ADASYN) and the original testing set \n",
        "path = '/content/drive/My Drive/data/resampled_train_sets/'\n",
        "all_files = glob.glob(path + \"/*.csv\")\n",
        "train_set_list=[]\n",
        "\n",
        "for filename in all_files:\n",
        "  df = pd.read_csv(filename, index_col=None, header=0)\n",
        "  train_set_list.append(df)"
      ],
      "metadata": {
        "id": "pN9L5Ma0-7ro"
      },
      "execution_count": 74,
      "outputs": []
    },
    {
      "cell_type": "code",
      "source": [
        "all_files"
      ],
      "metadata": {
        "colab": {
          "base_uri": "https://localhost:8080/"
        },
        "id": "KXBHKPoCJ9qt",
        "outputId": "eb601dff-d36d-44f9-f795-1fb96487171f"
      },
      "execution_count": null,
      "outputs": [
        {
          "output_type": "execute_result",
          "data": {
            "text/plain": [
              "['/content/drive/My Drive/data/resampled_train_sets/data_train_ig_ro.csv',\n",
              " '/content/drive/My Drive/data/resampled_train_sets/data_train_ig_adasyn.csv',\n",
              " '/content/drive/My Drive/data/resampled_train_sets/data_train_ig_gn.csv',\n",
              " '/content/drive/My Drive/data/resampled_train_sets/data_train_ig_smote.csv',\n",
              " '/content/drive/My Drive/data/resampled_train_sets/data_train.csv']"
            ]
          },
          "metadata": {},
          "execution_count": 23
        }
      ]
    },
    {
      "cell_type": "code",
      "source": [
        "train_set_list[0]"
      ],
      "metadata": {
        "colab": {
          "base_uri": "https://localhost:8080/",
          "height": 551
        },
        "id": "VFC4MWXFUPCg",
        "outputId": "e3f654f3-8787-4836-a517-058a95195d86"
      },
      "execution_count": null,
      "outputs": [
        {
          "output_type": "execute_result",
          "data": {
            "text/plain": [
              "      seq_TEMP         A         C         E         I         K         L  \\\n",
              "0           52  0.080292  0.004866  0.026764  0.046229  0.017032  0.038929   \n",
              "1           53  0.062147  0.011299  0.079096  0.080979  0.058380  0.084746   \n",
              "2           53  0.093750  0.004808  0.072115  0.057692  0.026442  0.100962   \n",
              "3           53  0.144495  0.013761  0.059633  0.018349  0.011468  0.146789   \n",
              "4           54  0.080645  0.010081  0.092742  0.046371  0.040323  0.086694   \n",
              "...        ...       ...       ...       ...       ...       ...       ...   \n",
              "2579        50  0.037520  0.011419  0.073409  0.053834  0.070147  0.091354   \n",
              "2580        50  0.081081  0.010811  0.061261  0.054054  0.021622  0.120721   \n",
              "2581        51  0.100427  0.012821  0.057692  0.059829  0.089744  0.091880   \n",
              "2582        51  0.126147  0.004587  0.068807  0.064220  0.052752  0.087156   \n",
              "2583        51  0.071130  0.018828  0.064854  0.064854  0.075314  0.087866   \n",
              "\n",
              "             N         Q         R  ...  \\\n",
              "0     0.065693  0.043796  0.034063  ...   \n",
              "1     0.035782  0.035782  0.060264  ...   \n",
              "2     0.028846  0.031250  0.074519  ...   \n",
              "3     0.016055  0.006881  0.121560  ...   \n",
              "4     0.034274  0.034274  0.062500  ...   \n",
              "...        ...       ...       ...  ...   \n",
              "2579  0.071778  0.027732  0.030995  ...   \n",
              "2580  0.028829  0.039640  0.061261  ...   \n",
              "2581  0.040598  0.008547  0.025641  ...   \n",
              "2582  0.038991  0.027523  0.032110  ...   \n",
              "2583  0.043933  0.018828  0.069038  ...   \n",
              "\n",
              "      Normalized van der Waals Volume-T2332  Polarity-T1331  \\\n",
              "0                                  0.136585        0.204878   \n",
              "1                                  0.211321        0.281132   \n",
              "2                                  0.187952        0.257831   \n",
              "3                                  0.140230        0.200000   \n",
              "4                                  0.187879        0.274747   \n",
              "...                                     ...             ...   \n",
              "2579                               0.245098        0.303922   \n",
              "2580                               0.185921        0.211191   \n",
              "2581                               0.164882        0.222698   \n",
              "2582                               0.135632        0.236782   \n",
              "2583                               0.190776        0.247379   \n",
              "\n",
              "      Polarizability-T2332  Charge-T1221  Charge-T1331  \\\n",
              "0                 0.158537      0.085366      0.007317   \n",
              "1                 0.252830      0.184906      0.043396   \n",
              "2                 0.219277      0.151807      0.031325   \n",
              "3                 0.177011      0.209195      0.025287   \n",
              "4                 0.222222      0.167677      0.024242   \n",
              "...                    ...           ...           ...   \n",
              "2579              0.284314      0.142157      0.029412   \n",
              "2580              0.222022      0.137184      0.021661   \n",
              "2581              0.188437      0.167024      0.036403   \n",
              "2582              0.163218      0.119540      0.032184   \n",
              "2583              0.245283      0.194969      0.044025   \n",
              "\n",
              "      Solvent accessibility-T1221  Hydrophobicity_CASG920101-G1D100  \\\n",
              "0                        0.231707                        100.000000   \n",
              "1                        0.320755                        100.000000   \n",
              "2                        0.293976                         99.759615   \n",
              "3                        0.298851                        100.000000   \n",
              "4                        0.307071                        100.000000   \n",
              "...                           ...                               ...   \n",
              "2579                     0.302288                        100.000000   \n",
              "2580                     0.270758                        100.000000   \n",
              "2581                     0.284797                        100.000000   \n",
              "2582                     0.287356                         99.770642   \n",
              "2583                     0.251572                         99.790795   \n",
              "\n",
              "      Hydrophobicity_FASG890101-G1D100  \\\n",
              "0                            99.756691   \n",
              "1                           100.000000   \n",
              "2                            99.038462   \n",
              "3                           100.000000   \n",
              "4                           100.000000   \n",
              "...                                ...   \n",
              "2579                        100.000000   \n",
              "2580                        100.000000   \n",
              "2581                        100.000000   \n",
              "2582                         99.770642   \n",
              "2583                         99.372385   \n",
              "\n",
              "      Normalized van der Waals Volume-G1D100  Charge-G2D100  \n",
              "0                                 100.000000     100.000000  \n",
              "1                                  99.435028      99.623352  \n",
              "2                                  99.759615     100.000000  \n",
              "3                                 100.000000     100.000000  \n",
              "4                                  99.798387      99.798387  \n",
              "...                                      ...            ...  \n",
              "2579                               99.184339      99.673736  \n",
              "2580                              100.000000      99.819820  \n",
              "2581                               99.786325      99.786325  \n",
              "2582                               99.541284     100.000000  \n",
              "2583                               99.581590     100.000000  \n",
              "\n",
              "[2584 rows x 501 columns]"
            ],
            "text/html": [
              "\n",
              "  <div id=\"df-541f9751-9030-4957-a5cf-2d0229aa3b9a\">\n",
              "    <div class=\"colab-df-container\">\n",
              "      <div>\n",
              "<style scoped>\n",
              "    .dataframe tbody tr th:only-of-type {\n",
              "        vertical-align: middle;\n",
              "    }\n",
              "\n",
              "    .dataframe tbody tr th {\n",
              "        vertical-align: top;\n",
              "    }\n",
              "\n",
              "    .dataframe thead th {\n",
              "        text-align: right;\n",
              "    }\n",
              "</style>\n",
              "<table border=\"1\" class=\"dataframe\">\n",
              "  <thead>\n",
              "    <tr style=\"text-align: right;\">\n",
              "      <th></th>\n",
              "      <th>seq_TEMP</th>\n",
              "      <th>A</th>\n",
              "      <th>C</th>\n",
              "      <th>E</th>\n",
              "      <th>I</th>\n",
              "      <th>K</th>\n",
              "      <th>L</th>\n",
              "      <th>N</th>\n",
              "      <th>Q</th>\n",
              "      <th>R</th>\n",
              "      <th>...</th>\n",
              "      <th>Normalized van der Waals Volume-T2332</th>\n",
              "      <th>Polarity-T1331</th>\n",
              "      <th>Polarizability-T2332</th>\n",
              "      <th>Charge-T1221</th>\n",
              "      <th>Charge-T1331</th>\n",
              "      <th>Solvent accessibility-T1221</th>\n",
              "      <th>Hydrophobicity_CASG920101-G1D100</th>\n",
              "      <th>Hydrophobicity_FASG890101-G1D100</th>\n",
              "      <th>Normalized van der Waals Volume-G1D100</th>\n",
              "      <th>Charge-G2D100</th>\n",
              "    </tr>\n",
              "  </thead>\n",
              "  <tbody>\n",
              "    <tr>\n",
              "      <th>0</th>\n",
              "      <td>52</td>\n",
              "      <td>0.080292</td>\n",
              "      <td>0.004866</td>\n",
              "      <td>0.026764</td>\n",
              "      <td>0.046229</td>\n",
              "      <td>0.017032</td>\n",
              "      <td>0.038929</td>\n",
              "      <td>0.065693</td>\n",
              "      <td>0.043796</td>\n",
              "      <td>0.034063</td>\n",
              "      <td>...</td>\n",
              "      <td>0.136585</td>\n",
              "      <td>0.204878</td>\n",
              "      <td>0.158537</td>\n",
              "      <td>0.085366</td>\n",
              "      <td>0.007317</td>\n",
              "      <td>0.231707</td>\n",
              "      <td>100.000000</td>\n",
              "      <td>99.756691</td>\n",
              "      <td>100.000000</td>\n",
              "      <td>100.000000</td>\n",
              "    </tr>\n",
              "    <tr>\n",
              "      <th>1</th>\n",
              "      <td>53</td>\n",
              "      <td>0.062147</td>\n",
              "      <td>0.011299</td>\n",
              "      <td>0.079096</td>\n",
              "      <td>0.080979</td>\n",
              "      <td>0.058380</td>\n",
              "      <td>0.084746</td>\n",
              "      <td>0.035782</td>\n",
              "      <td>0.035782</td>\n",
              "      <td>0.060264</td>\n",
              "      <td>...</td>\n",
              "      <td>0.211321</td>\n",
              "      <td>0.281132</td>\n",
              "      <td>0.252830</td>\n",
              "      <td>0.184906</td>\n",
              "      <td>0.043396</td>\n",
              "      <td>0.320755</td>\n",
              "      <td>100.000000</td>\n",
              "      <td>100.000000</td>\n",
              "      <td>99.435028</td>\n",
              "      <td>99.623352</td>\n",
              "    </tr>\n",
              "    <tr>\n",
              "      <th>2</th>\n",
              "      <td>53</td>\n",
              "      <td>0.093750</td>\n",
              "      <td>0.004808</td>\n",
              "      <td>0.072115</td>\n",
              "      <td>0.057692</td>\n",
              "      <td>0.026442</td>\n",
              "      <td>0.100962</td>\n",
              "      <td>0.028846</td>\n",
              "      <td>0.031250</td>\n",
              "      <td>0.074519</td>\n",
              "      <td>...</td>\n",
              "      <td>0.187952</td>\n",
              "      <td>0.257831</td>\n",
              "      <td>0.219277</td>\n",
              "      <td>0.151807</td>\n",
              "      <td>0.031325</td>\n",
              "      <td>0.293976</td>\n",
              "      <td>99.759615</td>\n",
              "      <td>99.038462</td>\n",
              "      <td>99.759615</td>\n",
              "      <td>100.000000</td>\n",
              "    </tr>\n",
              "    <tr>\n",
              "      <th>3</th>\n",
              "      <td>53</td>\n",
              "      <td>0.144495</td>\n",
              "      <td>0.013761</td>\n",
              "      <td>0.059633</td>\n",
              "      <td>0.018349</td>\n",
              "      <td>0.011468</td>\n",
              "      <td>0.146789</td>\n",
              "      <td>0.016055</td>\n",
              "      <td>0.006881</td>\n",
              "      <td>0.121560</td>\n",
              "      <td>...</td>\n",
              "      <td>0.140230</td>\n",
              "      <td>0.200000</td>\n",
              "      <td>0.177011</td>\n",
              "      <td>0.209195</td>\n",
              "      <td>0.025287</td>\n",
              "      <td>0.298851</td>\n",
              "      <td>100.000000</td>\n",
              "      <td>100.000000</td>\n",
              "      <td>100.000000</td>\n",
              "      <td>100.000000</td>\n",
              "    </tr>\n",
              "    <tr>\n",
              "      <th>4</th>\n",
              "      <td>54</td>\n",
              "      <td>0.080645</td>\n",
              "      <td>0.010081</td>\n",
              "      <td>0.092742</td>\n",
              "      <td>0.046371</td>\n",
              "      <td>0.040323</td>\n",
              "      <td>0.086694</td>\n",
              "      <td>0.034274</td>\n",
              "      <td>0.034274</td>\n",
              "      <td>0.062500</td>\n",
              "      <td>...</td>\n",
              "      <td>0.187879</td>\n",
              "      <td>0.274747</td>\n",
              "      <td>0.222222</td>\n",
              "      <td>0.167677</td>\n",
              "      <td>0.024242</td>\n",
              "      <td>0.307071</td>\n",
              "      <td>100.000000</td>\n",
              "      <td>100.000000</td>\n",
              "      <td>99.798387</td>\n",
              "      <td>99.798387</td>\n",
              "    </tr>\n",
              "    <tr>\n",
              "      <th>...</th>\n",
              "      <td>...</td>\n",
              "      <td>...</td>\n",
              "      <td>...</td>\n",
              "      <td>...</td>\n",
              "      <td>...</td>\n",
              "      <td>...</td>\n",
              "      <td>...</td>\n",
              "      <td>...</td>\n",
              "      <td>...</td>\n",
              "      <td>...</td>\n",
              "      <td>...</td>\n",
              "      <td>...</td>\n",
              "      <td>...</td>\n",
              "      <td>...</td>\n",
              "      <td>...</td>\n",
              "      <td>...</td>\n",
              "      <td>...</td>\n",
              "      <td>...</td>\n",
              "      <td>...</td>\n",
              "      <td>...</td>\n",
              "      <td>...</td>\n",
              "    </tr>\n",
              "    <tr>\n",
              "      <th>2579</th>\n",
              "      <td>50</td>\n",
              "      <td>0.037520</td>\n",
              "      <td>0.011419</td>\n",
              "      <td>0.073409</td>\n",
              "      <td>0.053834</td>\n",
              "      <td>0.070147</td>\n",
              "      <td>0.091354</td>\n",
              "      <td>0.071778</td>\n",
              "      <td>0.027732</td>\n",
              "      <td>0.030995</td>\n",
              "      <td>...</td>\n",
              "      <td>0.245098</td>\n",
              "      <td>0.303922</td>\n",
              "      <td>0.284314</td>\n",
              "      <td>0.142157</td>\n",
              "      <td>0.029412</td>\n",
              "      <td>0.302288</td>\n",
              "      <td>100.000000</td>\n",
              "      <td>100.000000</td>\n",
              "      <td>99.184339</td>\n",
              "      <td>99.673736</td>\n",
              "    </tr>\n",
              "    <tr>\n",
              "      <th>2580</th>\n",
              "      <td>50</td>\n",
              "      <td>0.081081</td>\n",
              "      <td>0.010811</td>\n",
              "      <td>0.061261</td>\n",
              "      <td>0.054054</td>\n",
              "      <td>0.021622</td>\n",
              "      <td>0.120721</td>\n",
              "      <td>0.028829</td>\n",
              "      <td>0.039640</td>\n",
              "      <td>0.061261</td>\n",
              "      <td>...</td>\n",
              "      <td>0.185921</td>\n",
              "      <td>0.211191</td>\n",
              "      <td>0.222022</td>\n",
              "      <td>0.137184</td>\n",
              "      <td>0.021661</td>\n",
              "      <td>0.270758</td>\n",
              "      <td>100.000000</td>\n",
              "      <td>100.000000</td>\n",
              "      <td>100.000000</td>\n",
              "      <td>99.819820</td>\n",
              "    </tr>\n",
              "    <tr>\n",
              "      <th>2581</th>\n",
              "      <td>51</td>\n",
              "      <td>0.100427</td>\n",
              "      <td>0.012821</td>\n",
              "      <td>0.057692</td>\n",
              "      <td>0.059829</td>\n",
              "      <td>0.089744</td>\n",
              "      <td>0.091880</td>\n",
              "      <td>0.040598</td>\n",
              "      <td>0.008547</td>\n",
              "      <td>0.025641</td>\n",
              "      <td>...</td>\n",
              "      <td>0.164882</td>\n",
              "      <td>0.222698</td>\n",
              "      <td>0.188437</td>\n",
              "      <td>0.167024</td>\n",
              "      <td>0.036403</td>\n",
              "      <td>0.284797</td>\n",
              "      <td>100.000000</td>\n",
              "      <td>100.000000</td>\n",
              "      <td>99.786325</td>\n",
              "      <td>99.786325</td>\n",
              "    </tr>\n",
              "    <tr>\n",
              "      <th>2582</th>\n",
              "      <td>51</td>\n",
              "      <td>0.126147</td>\n",
              "      <td>0.004587</td>\n",
              "      <td>0.068807</td>\n",
              "      <td>0.064220</td>\n",
              "      <td>0.052752</td>\n",
              "      <td>0.087156</td>\n",
              "      <td>0.038991</td>\n",
              "      <td>0.027523</td>\n",
              "      <td>0.032110</td>\n",
              "      <td>...</td>\n",
              "      <td>0.135632</td>\n",
              "      <td>0.236782</td>\n",
              "      <td>0.163218</td>\n",
              "      <td>0.119540</td>\n",
              "      <td>0.032184</td>\n",
              "      <td>0.287356</td>\n",
              "      <td>99.770642</td>\n",
              "      <td>99.770642</td>\n",
              "      <td>99.541284</td>\n",
              "      <td>100.000000</td>\n",
              "    </tr>\n",
              "    <tr>\n",
              "      <th>2583</th>\n",
              "      <td>51</td>\n",
              "      <td>0.071130</td>\n",
              "      <td>0.018828</td>\n",
              "      <td>0.064854</td>\n",
              "      <td>0.064854</td>\n",
              "      <td>0.075314</td>\n",
              "      <td>0.087866</td>\n",
              "      <td>0.043933</td>\n",
              "      <td>0.018828</td>\n",
              "      <td>0.069038</td>\n",
              "      <td>...</td>\n",
              "      <td>0.190776</td>\n",
              "      <td>0.247379</td>\n",
              "      <td>0.245283</td>\n",
              "      <td>0.194969</td>\n",
              "      <td>0.044025</td>\n",
              "      <td>0.251572</td>\n",
              "      <td>99.790795</td>\n",
              "      <td>99.372385</td>\n",
              "      <td>99.581590</td>\n",
              "      <td>100.000000</td>\n",
              "    </tr>\n",
              "  </tbody>\n",
              "</table>\n",
              "<p>2584 rows × 501 columns</p>\n",
              "</div>\n",
              "      <button class=\"colab-df-convert\" onclick=\"convertToInteractive('df-541f9751-9030-4957-a5cf-2d0229aa3b9a')\"\n",
              "              title=\"Convert this dataframe to an interactive table.\"\n",
              "              style=\"display:none;\">\n",
              "        \n",
              "  <svg xmlns=\"http://www.w3.org/2000/svg\" height=\"24px\"viewBox=\"0 0 24 24\"\n",
              "       width=\"24px\">\n",
              "    <path d=\"M0 0h24v24H0V0z\" fill=\"none\"/>\n",
              "    <path d=\"M18.56 5.44l.94 2.06.94-2.06 2.06-.94-2.06-.94-.94-2.06-.94 2.06-2.06.94zm-11 1L8.5 8.5l.94-2.06 2.06-.94-2.06-.94L8.5 2.5l-.94 2.06-2.06.94zm10 10l.94 2.06.94-2.06 2.06-.94-2.06-.94-.94-2.06-.94 2.06-2.06.94z\"/><path d=\"M17.41 7.96l-1.37-1.37c-.4-.4-.92-.59-1.43-.59-.52 0-1.04.2-1.43.59L10.3 9.45l-7.72 7.72c-.78.78-.78 2.05 0 2.83L4 21.41c.39.39.9.59 1.41.59.51 0 1.02-.2 1.41-.59l7.78-7.78 2.81-2.81c.8-.78.8-2.07 0-2.86zM5.41 20L4 18.59l7.72-7.72 1.47 1.35L5.41 20z\"/>\n",
              "  </svg>\n",
              "      </button>\n",
              "      \n",
              "  <style>\n",
              "    .colab-df-container {\n",
              "      display:flex;\n",
              "      flex-wrap:wrap;\n",
              "      gap: 12px;\n",
              "    }\n",
              "\n",
              "    .colab-df-convert {\n",
              "      background-color: #E8F0FE;\n",
              "      border: none;\n",
              "      border-radius: 50%;\n",
              "      cursor: pointer;\n",
              "      display: none;\n",
              "      fill: #1967D2;\n",
              "      height: 32px;\n",
              "      padding: 0 0 0 0;\n",
              "      width: 32px;\n",
              "    }\n",
              "\n",
              "    .colab-df-convert:hover {\n",
              "      background-color: #E2EBFA;\n",
              "      box-shadow: 0px 1px 2px rgba(60, 64, 67, 0.3), 0px 1px 3px 1px rgba(60, 64, 67, 0.15);\n",
              "      fill: #174EA6;\n",
              "    }\n",
              "\n",
              "    [theme=dark] .colab-df-convert {\n",
              "      background-color: #3B4455;\n",
              "      fill: #D2E3FC;\n",
              "    }\n",
              "\n",
              "    [theme=dark] .colab-df-convert:hover {\n",
              "      background-color: #434B5C;\n",
              "      box-shadow: 0px 1px 3px 1px rgba(0, 0, 0, 0.15);\n",
              "      filter: drop-shadow(0px 1px 2px rgba(0, 0, 0, 0.3));\n",
              "      fill: #FFFFFF;\n",
              "    }\n",
              "  </style>\n",
              "\n",
              "      <script>\n",
              "        const buttonEl =\n",
              "          document.querySelector('#df-541f9751-9030-4957-a5cf-2d0229aa3b9a button.colab-df-convert');\n",
              "        buttonEl.style.display =\n",
              "          google.colab.kernel.accessAllowed ? 'block' : 'none';\n",
              "\n",
              "        async function convertToInteractive(key) {\n",
              "          const element = document.querySelector('#df-541f9751-9030-4957-a5cf-2d0229aa3b9a');\n",
              "          const dataTable =\n",
              "            await google.colab.kernel.invokeFunction('convertToInteractive',\n",
              "                                                     [key], {});\n",
              "          if (!dataTable) return;\n",
              "\n",
              "          const docLinkHtml = 'Like what you see? Visit the ' +\n",
              "            '<a target=\"_blank\" href=https://colab.research.google.com/notebooks/data_table.ipynb>data table notebook</a>'\n",
              "            + ' to learn more about interactive tables.';\n",
              "          element.innerHTML = '';\n",
              "          dataTable['output_type'] = 'display_data';\n",
              "          await google.colab.output.renderOutput(dataTable, element);\n",
              "          const docLink = document.createElement('div');\n",
              "          docLink.innerHTML = docLinkHtml;\n",
              "          element.appendChild(docLink);\n",
              "        }\n",
              "      </script>\n",
              "    </div>\n",
              "  </div>\n",
              "  "
            ]
          },
          "metadata": {},
          "execution_count": 43
        }
      ]
    },
    {
      "cell_type": "markdown",
      "source": [
        "# **Benchmark of performances of the applied models**"
      ],
      "metadata": {
        "id": "dbAj_3TvPSZE"
      }
    },
    {
      "cell_type": "code",
      "source": [
        "def load_data ():\n",
        "    #df = pd.read_csv(\"/content/drive/My Drive/data/data_train_ig_ro_0523.csv\")\n",
        "    y_train= df['seq_TEMP']\n",
        "    X_train = df.drop('seq_TEMP', axis=1)\n",
        "    y_test = pd.read_csv(\"/content/drive/My Drive/data/y_test_0602.csv\")\n",
        "    X_test = pd.read_csv(\"/content/drive/My Drive/data/X_test_ig_0523.csv\")\n",
        "    #split the test data into bins\n",
        "    data_test = pd.concat([y_test, X_test], axis=1).reset_index(level=0) \n",
        "    data_test = data_test.drop(['index'],axis=1) \n",
        "    bin4_29=data_test[data_test['seq_TEMP'] <30]\n",
        "    X_test4_29 = bin4_29.drop(['seq_TEMP'], axis=1)\n",
        "    y_test4_29 = bin4_29['seq_TEMP']\n",
        "    bin30_36=data_test[(data_test['seq_TEMP']>= 30) & (data_test['seq_TEMP'] < 37)]\n",
        "    X_test30_36 = bin30_36.drop(['seq_TEMP'], axis=1)\n",
        "    y_test30_36 = bin30_36['seq_TEMP']\n",
        "    bin37_99=data_test[data_test['seq_TEMP']>= 37]\n",
        "    X_test37_99 = bin37_99.drop(['seq_TEMP'], axis=1)\n",
        "    y_test37_99 = bin37_99['seq_TEMP']\n",
        "    return X_train, y_train, X_test, y_test, X_test4_29, y_test4_29, X_test30_36, y_test30_36, X_test37_99, y_test37_99\n",
        "\n",
        "def evaluate_model(X_train, y_train, X_test, y_test, X_test4_29, y_test4_29, X_test30_36, y_test30_36, X_test37_99, y_test37_99, model):\n",
        "    models = model.fit(X_train, y_train)\n",
        "    y_pred=model.predict(X_test)\n",
        "    r2 = r2_score(y_test.values.ravel(), y_pred)\n",
        "    mae = mean_absolute_error(y_test, y_pred)\n",
        "    mse = mean_squared_error(y_test, y_pred)\n",
        "    rmse = mean_squared_error(y_test, y_pred)**(1/2)\n",
        "    #evaluare MSE across bins\n",
        "    y_pred4_29=model.predict(X_test4_29)\n",
        "    mse4_29 = mean_squared_error(y_test4_29, y_pred4_29)\n",
        "    y_pred30_36=model.predict(X_test30_36)\n",
        "    mse30_36 = mean_squared_error(y_test30_36, y_pred30_36)\n",
        "    y_pred37_99=model.predict(X_test37_99)\n",
        "    mse37_99 = mean_squared_error(y_test37_99, y_pred37_99)\n",
        "    return r2, mae, mse, rmse, mse4_29, mse30_36, mse37_99 \n",
        "\n",
        "def get_models():\n",
        "    models, names = list(), list()\n",
        "    models.append(RandomForestRegressor(random_state=0))\n",
        "    names.append('RF')\n",
        "    models.append(GradientBoostingRegressor(random_state=0))\n",
        "    names.append('GBR')\n",
        "    models.append(LGBMRegressor(random_state=0))\n",
        "    names.append('LGBM')\n",
        "    return models, names"
      ],
      "metadata": {
        "id": "NnxSZDJVcrR4"
      },
      "execution_count": 76,
      "outputs": []
    },
    {
      "cell_type": "markdown",
      "source": [
        "## **Random Oversampling**"
      ],
      "metadata": {
        "id": "U-iLS1NThCJP"
      }
    },
    {
      "cell_type": "code",
      "source": [
        "df=train_set_list[0]\n",
        "\n",
        "X_train, y_train, X_test, y_test, X_test4_29, y_test4_29, X_test30_36, y_test30_36, X_test37_99, y_test37_99 = load_data()\n",
        "\n",
        "models, names = get_models()\n",
        "results = list()\n",
        "\n",
        "for i in range(len(models)):\n",
        "    pipeline = Pipeline(steps=[('m', models[i])])    \n",
        "    scores = evaluate_model(X_train, y_train, X_test, y_test, X_test4_29, y_test4_29, X_test30_36, y_test30_36, X_test37_99, y_test37_99,  pipeline)\n",
        "    results.append(scores)\n",
        "    print(names[i], scores)"
      ],
      "metadata": {
        "id": "7n0LkjQrMB4-",
        "colab": {
          "base_uri": "https://localhost:8080/"
        },
        "outputId": "6a94e059-a1b0-4218-c9af-c62c1f7cfe47"
      },
      "execution_count": 77,
      "outputs": [
        {
          "output_type": "stream",
          "name": "stdout",
          "text": [
            "RF (0.6957037968150084, 7.762737252663622, 120.7530192315766, 10.988767866852799, 83.34684328841809, 47.96057313692038, 211.04079663608564)\n",
            "GBR (0.6915556373947391, 7.876116192583182, 122.39912184149617, 11.06341366132064, 79.32895624523498, 46.68698976349359, 220.06450532378884)\n",
            "LGBM (0.7249149947898914, 7.201409096463164, 109.16122047129416, 10.448024716246328, 73.5429376652877, 42.157992314329796, 193.3392430390032)\n"
          ]
        }
      ]
    },
    {
      "cell_type": "markdown",
      "source": [
        "## **ADASYN**"
      ],
      "metadata": {
        "id": "JbsqUZI4hNgH"
      }
    },
    {
      "cell_type": "code",
      "source": [
        "df=train_set_list[1]\n",
        "\n",
        "X_train, y_train, X_test, y_test, X_test4_29, y_test4_29, X_test30_36, y_test30_36, X_test37_99, y_test37_99 = load_data()\n",
        "\n",
        "models, names = get_models()\n",
        "results = list()\n",
        "\n",
        "for i in range(len(models)):\n",
        "    pipeline = Pipeline(steps=[('m', models[i])])    \n",
        "    scores = evaluate_model(X_train, y_train, X_test, y_test, X_test4_29, y_test4_29, X_test30_36, y_test30_36, X_test37_99, y_test37_99,  pipeline)\n",
        "    results.append(scores)\n",
        "    print(names[i], scores)"
      ],
      "metadata": {
        "id": "j5UZ2XglcrUZ",
        "colab": {
          "base_uri": "https://localhost:8080/"
        },
        "outputId": "1f9fc852-8b69-488c-fd92-3da3335a352b"
      },
      "execution_count": 78,
      "outputs": [
        {
          "output_type": "stream",
          "name": "stdout",
          "text": [
            "RF (-0.1290884101184786, 12.305099885844749, 448.05302555254315, 21.167263062392905, 25.522673750000003, 8.753836132983377, 1170.4641811926604)\n",
            "GBR (-0.017957066137819666, 11.948245875389912, 403.9530822194699, 20.098584084941653, 28.271829174510565, 10.108024767569955, 1048.7928811217503)\n",
            "LGBM (-0.08651243856975865, 12.104497800919995, 431.15772072318856, 20.764337714533266, 25.34625156666148, 10.037930074605868, 1124.3650914446428)\n"
          ]
        }
      ]
    },
    {
      "cell_type": "markdown",
      "source": [
        "## **Gaussian Noise**"
      ],
      "metadata": {
        "id": "T7OfDm7uhRZx"
      }
    },
    {
      "cell_type": "code",
      "source": [
        "df=train_set_list[2]\n",
        "\n",
        "X_train, y_train, X_test, y_test, X_test4_29, y_test4_29, X_test30_36, y_test30_36, X_test37_99, y_test37_99 = load_data()\n",
        "\n",
        "models, names = get_models()\n",
        "results = list()\n",
        "\n",
        "for i in range(len(models)):\n",
        "    pipeline = Pipeline(steps=[('m', models[i])])    \n",
        "    scores = evaluate_model(X_train, y_train, X_test, y_test, X_test4_29, y_test4_29, X_test30_36, y_test30_36, X_test37_99, y_test37_99,  pipeline)\n",
        "    results.append(scores)\n",
        "    print(names[i], scores)"
      ],
      "metadata": {
        "id": "vA3Xkk4ZcrXL",
        "colab": {
          "base_uri": "https://localhost:8080/"
        },
        "outputId": "36eed7ab-6285-4a72-823b-269948491160"
      },
      "execution_count": 79,
      "outputs": [
        {
          "output_type": "stream",
          "name": "stdout",
          "text": [
            "RF (0.6941422938793327, 7.781124238964992, 121.37266611526509, 11.016926346094227, 85.64015575037664, 51.11388842093176, 208.1825134914203)\n",
            "GBR (0.6758690621768707, 8.162366673198596, 128.62398202422173, 11.34125134296131, 86.6336336816733, 55.31041242152445, 223.45211486867709)\n",
            "LGBM (0.7127893578502582, 7.4160221647413005, 113.97300338294785, 10.675813944751372, 75.89224110092668, 47.09020744722868, 200.27898210120142)\n"
          ]
        }
      ]
    },
    {
      "cell_type": "markdown",
      "source": [
        "## **SMOTE**"
      ],
      "metadata": {
        "id": "B0gZ7lVthccS"
      }
    },
    {
      "cell_type": "code",
      "source": [
        "df=train_set_list[3]\n",
        "\n",
        "X_train, y_train, X_test, y_test, X_test4_29, y_test4_29, X_test30_36, y_test30_36, X_test37_99, y_test37_99 = load_data()\n",
        "\n",
        "models, names = get_models()\n",
        "results = list()\n",
        "\n",
        "for i in range(len(models)):\n",
        "    pipeline = Pipeline(steps=[('m', models[i])])    \n",
        "    scores = evaluate_model(X_train, y_train, X_test, y_test, X_test4_29, y_test4_29, X_test30_36, y_test30_36, X_test37_99, y_test37_99,  pipeline)\n",
        "    results.append(scores)\n",
        "    print(names[i], scores)"
      ],
      "metadata": {
        "id": "0DnRFYJXcrZm",
        "colab": {
          "base_uri": "https://localhost:8080/"
        },
        "outputId": "9ae23d42-9377-45af-b656-1d8f042fc5ea"
      },
      "execution_count": 80,
      "outputs": [
        {
          "output_type": "stream",
          "name": "stdout",
          "text": [
            "RF (0.7011044345660825, 7.705865296803653, 118.60989911574073, 10.890817192283633, 82.85025763700564, 50.38615511909449, 203.86349303431876)\n",
            "GBR (0.6880754572999039, 7.985513201902159, 123.78015206639677, 11.125652882702964, 80.5359093434398, 43.777894762269476, 224.93496845330998)\n",
            "LGBM (0.6991913800625438, 7.596470711626616, 119.36905123410098, 10.925614455677126, 78.266862972565, 45.507562236435554, 213.82153974345914)\n"
          ]
        }
      ]
    },
    {
      "cell_type": "markdown",
      "source": [
        "## **Original**"
      ],
      "metadata": {
        "id": "W5KESZDdheqd"
      }
    },
    {
      "cell_type": "code",
      "source": [
        "df=train_set_list[4]\n",
        "\n",
        "X_train, y_train, X_test, y_test, X_test4_29, y_test4_29, X_test30_36, y_test30_36, X_test37_99, y_test37_99 = load_data()\n",
        "\n",
        "models, names = get_models()\n",
        "results = list()\n",
        "\n",
        "for i in range(len(models)):\n",
        "    pipeline = Pipeline(steps=[('m', models[i])])    \n",
        "    scores = evaluate_model(X_train, y_train, X_test, y_test, X_test4_29, y_test4_29, X_test30_36, y_test30_36, X_test37_99, y_test37_99,  pipeline)\n",
        "    results.append(scores)\n",
        "    print(names[i], scores)"
      ],
      "metadata": {
        "id": "KgkEJlrhcrcc",
        "colab": {
          "base_uri": "https://localhost:8080/"
        },
        "outputId": "f7a5dbb2-544f-4486-d708-2da888aa8f34"
      },
      "execution_count": 81,
      "outputs": [
        {
          "output_type": "stream",
          "name": "stdout",
          "text": [
            "RF (0.6999753694234909, 7.772682648401827, 119.05794290810503, 10.911367600264645, 82.46396095338983, 45.64270228838582, 209.09676796636086)\n",
            "GBR (0.7003098813109021, 7.732855622482914, 118.92519948261707, 10.905283099608972, 81.7515846137292, 41.667413751086706, 212.47166419861293)\n",
            "LGBM (0.7178503825894529, 7.366559016559, 111.9646509576896, 10.581335027192438, 73.59830116482375, 48.92652600539216, 195.54188926588216)\n"
          ]
        }
      ]
    },
    {
      "cell_type": "markdown",
      "source": [
        "All techniques produce almost similar results to original data set (i.e. without synthesized data) without large improvement in R2 or MSE."
      ],
      "metadata": {
        "id": "gsQND6DlgGvj"
      }
    }
  ]
}