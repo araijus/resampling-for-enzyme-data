{
  "nbformat": 4,
  "nbformat_minor": 0,
  "metadata": {
    "colab": {
      "provenance": [],
      "toc_visible": true
    },
    "kernelspec": {
      "name": "python3",
      "display_name": "Python 3"
    },
    "language_info": {
      "name": "python"
    }
  },
  "cells": [
    {
      "cell_type": "markdown",
      "source": [
        "This notebook covers Data Discretization applied to compare the models performances across different subgroups of Topt. "
      ],
      "metadata": {
        "id": "tON7BepXHQj4"
      }
    },
    {
      "cell_type": "markdown",
      "source": [
        "# **Import libraries and data**\n"
      ],
      "metadata": {
        "id": "65jYjXOtIoAe"
      }
    },
    {
      "cell_type": "code",
      "execution_count": 1,
      "metadata": {
        "id": "PSa4mik1BJrE"
      },
      "outputs": [],
      "source": [
        "import pandas as pd\n",
        "import numpy as np\n",
        "import seaborn as sns\n",
        "from sklearn.model_selection import train_test_split\n",
        "from sklearn.ensemble import RandomForestRegressor\n",
        "from sklearn.metrics import r2_score, mean_absolute_error, mean_squared_error\n",
        "from collections import Counter"
      ]
    },
    {
      "cell_type": "code",
      "execution_count": 42,
      "metadata": {
        "id": "k8aNrPKDWchS",
        "colab": {
          "base_uri": "https://localhost:8080/",
          "height": 365
        },
        "outputId": "e7baf5ce-18c7-46a5-8829-a594453376ff"
      },
      "outputs": [
        {
          "output_type": "execute_result",
          "data": {
            "text/plain": [
              "   seq_TEMP         A         C         E         I         K         L  \\\n",
              "0        26  0.128743  0.023952  0.059880  0.041916  0.017964  0.083832   \n",
              "1        30  0.076923  0.008547  0.094017  0.065527  0.068376  0.096866   \n",
              "2        74  0.043937  0.001757  0.072056  0.108963  0.077329  0.075571   \n",
              "3        90  0.066055  0.009174  0.102752  0.047706  0.051376  0.095413   \n",
              "4        29  0.067146  0.007194  0.086331  0.074341  0.050360  0.076739   \n",
              "\n",
              "          N         Q         R  ...  Normalized van der Waals Volume-T2332  \\\n",
              "0  0.020958  0.020958  0.083832  ...                               0.156156   \n",
              "1  0.051282  0.025641  0.031339  ...                               0.180000   \n",
              "2  0.047452  0.015817  0.038664  ...                               0.209507   \n",
              "3  0.011009  0.020183  0.106422  ...                               0.200368   \n",
              "4  0.047962  0.069544  0.045564  ...                               0.197115   \n",
              "\n",
              "   Polarity-T1331  Polarizability-T2332  Charge-T1221  Charge-T1331  \\\n",
              "0        0.213213              0.189189      0.150150      0.048048   \n",
              "1        0.262857              0.200000      0.165714      0.034286   \n",
              "2        0.278169              0.228873      0.181338      0.026408   \n",
              "3        0.257353              0.250000      0.213235      0.053309   \n",
              "4        0.204327              0.209135      0.149038      0.028846   \n",
              "\n",
              "   Solvent accessibility-T1221  Hydrophobicity_CASG920101-G1D100  \\\n",
              "0                     0.237237                          100.0000   \n",
              "1                     0.265714                           99.7151   \n",
              "2                     0.288732                          100.0000   \n",
              "3                     0.321691                          100.0000   \n",
              "4                     0.257212                          100.0000   \n",
              "\n",
              "   Hydrophobicity_FASG890101-G1D100  Normalized van der Waals Volume-G1D100  \\\n",
              "0                        100.000000                              100.000000   \n",
              "1                         98.005698                              100.000000   \n",
              "2                        100.000000                               98.242531   \n",
              "3                        100.000000                               99.816514   \n",
              "4                        100.000000                              100.000000   \n",
              "\n",
              "   Charge-G2D100  \n",
              "0     100.000000  \n",
              "1     100.000000  \n",
              "2     100.000000  \n",
              "3      99.816514  \n",
              "4     100.000000  \n",
              "\n",
              "[5 rows x 501 columns]"
            ],
            "text/html": [
              "\n",
              "  <div id=\"df-cf4a1dc9-668a-4ce6-aa33-85b91facaf8d\">\n",
              "    <div class=\"colab-df-container\">\n",
              "      <div>\n",
              "<style scoped>\n",
              "    .dataframe tbody tr th:only-of-type {\n",
              "        vertical-align: middle;\n",
              "    }\n",
              "\n",
              "    .dataframe tbody tr th {\n",
              "        vertical-align: top;\n",
              "    }\n",
              "\n",
              "    .dataframe thead th {\n",
              "        text-align: right;\n",
              "    }\n",
              "</style>\n",
              "<table border=\"1\" class=\"dataframe\">\n",
              "  <thead>\n",
              "    <tr style=\"text-align: right;\">\n",
              "      <th></th>\n",
              "      <th>seq_TEMP</th>\n",
              "      <th>A</th>\n",
              "      <th>C</th>\n",
              "      <th>E</th>\n",
              "      <th>I</th>\n",
              "      <th>K</th>\n",
              "      <th>L</th>\n",
              "      <th>N</th>\n",
              "      <th>Q</th>\n",
              "      <th>R</th>\n",
              "      <th>...</th>\n",
              "      <th>Normalized van der Waals Volume-T2332</th>\n",
              "      <th>Polarity-T1331</th>\n",
              "      <th>Polarizability-T2332</th>\n",
              "      <th>Charge-T1221</th>\n",
              "      <th>Charge-T1331</th>\n",
              "      <th>Solvent accessibility-T1221</th>\n",
              "      <th>Hydrophobicity_CASG920101-G1D100</th>\n",
              "      <th>Hydrophobicity_FASG890101-G1D100</th>\n",
              "      <th>Normalized van der Waals Volume-G1D100</th>\n",
              "      <th>Charge-G2D100</th>\n",
              "    </tr>\n",
              "  </thead>\n",
              "  <tbody>\n",
              "    <tr>\n",
              "      <th>0</th>\n",
              "      <td>26</td>\n",
              "      <td>0.128743</td>\n",
              "      <td>0.023952</td>\n",
              "      <td>0.059880</td>\n",
              "      <td>0.041916</td>\n",
              "      <td>0.017964</td>\n",
              "      <td>0.083832</td>\n",
              "      <td>0.020958</td>\n",
              "      <td>0.020958</td>\n",
              "      <td>0.083832</td>\n",
              "      <td>...</td>\n",
              "      <td>0.156156</td>\n",
              "      <td>0.213213</td>\n",
              "      <td>0.189189</td>\n",
              "      <td>0.150150</td>\n",
              "      <td>0.048048</td>\n",
              "      <td>0.237237</td>\n",
              "      <td>100.0000</td>\n",
              "      <td>100.000000</td>\n",
              "      <td>100.000000</td>\n",
              "      <td>100.000000</td>\n",
              "    </tr>\n",
              "    <tr>\n",
              "      <th>1</th>\n",
              "      <td>30</td>\n",
              "      <td>0.076923</td>\n",
              "      <td>0.008547</td>\n",
              "      <td>0.094017</td>\n",
              "      <td>0.065527</td>\n",
              "      <td>0.068376</td>\n",
              "      <td>0.096866</td>\n",
              "      <td>0.051282</td>\n",
              "      <td>0.025641</td>\n",
              "      <td>0.031339</td>\n",
              "      <td>...</td>\n",
              "      <td>0.180000</td>\n",
              "      <td>0.262857</td>\n",
              "      <td>0.200000</td>\n",
              "      <td>0.165714</td>\n",
              "      <td>0.034286</td>\n",
              "      <td>0.265714</td>\n",
              "      <td>99.7151</td>\n",
              "      <td>98.005698</td>\n",
              "      <td>100.000000</td>\n",
              "      <td>100.000000</td>\n",
              "    </tr>\n",
              "    <tr>\n",
              "      <th>2</th>\n",
              "      <td>74</td>\n",
              "      <td>0.043937</td>\n",
              "      <td>0.001757</td>\n",
              "      <td>0.072056</td>\n",
              "      <td>0.108963</td>\n",
              "      <td>0.077329</td>\n",
              "      <td>0.075571</td>\n",
              "      <td>0.047452</td>\n",
              "      <td>0.015817</td>\n",
              "      <td>0.038664</td>\n",
              "      <td>...</td>\n",
              "      <td>0.209507</td>\n",
              "      <td>0.278169</td>\n",
              "      <td>0.228873</td>\n",
              "      <td>0.181338</td>\n",
              "      <td>0.026408</td>\n",
              "      <td>0.288732</td>\n",
              "      <td>100.0000</td>\n",
              "      <td>100.000000</td>\n",
              "      <td>98.242531</td>\n",
              "      <td>100.000000</td>\n",
              "    </tr>\n",
              "    <tr>\n",
              "      <th>3</th>\n",
              "      <td>90</td>\n",
              "      <td>0.066055</td>\n",
              "      <td>0.009174</td>\n",
              "      <td>0.102752</td>\n",
              "      <td>0.047706</td>\n",
              "      <td>0.051376</td>\n",
              "      <td>0.095413</td>\n",
              "      <td>0.011009</td>\n",
              "      <td>0.020183</td>\n",
              "      <td>0.106422</td>\n",
              "      <td>...</td>\n",
              "      <td>0.200368</td>\n",
              "      <td>0.257353</td>\n",
              "      <td>0.250000</td>\n",
              "      <td>0.213235</td>\n",
              "      <td>0.053309</td>\n",
              "      <td>0.321691</td>\n",
              "      <td>100.0000</td>\n",
              "      <td>100.000000</td>\n",
              "      <td>99.816514</td>\n",
              "      <td>99.816514</td>\n",
              "    </tr>\n",
              "    <tr>\n",
              "      <th>4</th>\n",
              "      <td>29</td>\n",
              "      <td>0.067146</td>\n",
              "      <td>0.007194</td>\n",
              "      <td>0.086331</td>\n",
              "      <td>0.074341</td>\n",
              "      <td>0.050360</td>\n",
              "      <td>0.076739</td>\n",
              "      <td>0.047962</td>\n",
              "      <td>0.069544</td>\n",
              "      <td>0.045564</td>\n",
              "      <td>...</td>\n",
              "      <td>0.197115</td>\n",
              "      <td>0.204327</td>\n",
              "      <td>0.209135</td>\n",
              "      <td>0.149038</td>\n",
              "      <td>0.028846</td>\n",
              "      <td>0.257212</td>\n",
              "      <td>100.0000</td>\n",
              "      <td>100.000000</td>\n",
              "      <td>100.000000</td>\n",
              "      <td>100.000000</td>\n",
              "    </tr>\n",
              "  </tbody>\n",
              "</table>\n",
              "<p>5 rows × 501 columns</p>\n",
              "</div>\n",
              "      <button class=\"colab-df-convert\" onclick=\"convertToInteractive('df-cf4a1dc9-668a-4ce6-aa33-85b91facaf8d')\"\n",
              "              title=\"Convert this dataframe to an interactive table.\"\n",
              "              style=\"display:none;\">\n",
              "        \n",
              "  <svg xmlns=\"http://www.w3.org/2000/svg\" height=\"24px\"viewBox=\"0 0 24 24\"\n",
              "       width=\"24px\">\n",
              "    <path d=\"M0 0h24v24H0V0z\" fill=\"none\"/>\n",
              "    <path d=\"M18.56 5.44l.94 2.06.94-2.06 2.06-.94-2.06-.94-.94-2.06-.94 2.06-2.06.94zm-11 1L8.5 8.5l.94-2.06 2.06-.94-2.06-.94L8.5 2.5l-.94 2.06-2.06.94zm10 10l.94 2.06.94-2.06 2.06-.94-2.06-.94-.94-2.06-.94 2.06-2.06.94z\"/><path d=\"M17.41 7.96l-1.37-1.37c-.4-.4-.92-.59-1.43-.59-.52 0-1.04.2-1.43.59L10.3 9.45l-7.72 7.72c-.78.78-.78 2.05 0 2.83L4 21.41c.39.39.9.59 1.41.59.51 0 1.02-.2 1.41-.59l7.78-7.78 2.81-2.81c.8-.78.8-2.07 0-2.86zM5.41 20L4 18.59l7.72-7.72 1.47 1.35L5.41 20z\"/>\n",
              "  </svg>\n",
              "      </button>\n",
              "      \n",
              "  <style>\n",
              "    .colab-df-container {\n",
              "      display:flex;\n",
              "      flex-wrap:wrap;\n",
              "      gap: 12px;\n",
              "    }\n",
              "\n",
              "    .colab-df-convert {\n",
              "      background-color: #E8F0FE;\n",
              "      border: none;\n",
              "      border-radius: 50%;\n",
              "      cursor: pointer;\n",
              "      display: none;\n",
              "      fill: #1967D2;\n",
              "      height: 32px;\n",
              "      padding: 0 0 0 0;\n",
              "      width: 32px;\n",
              "    }\n",
              "\n",
              "    .colab-df-convert:hover {\n",
              "      background-color: #E2EBFA;\n",
              "      box-shadow: 0px 1px 2px rgba(60, 64, 67, 0.3), 0px 1px 3px 1px rgba(60, 64, 67, 0.15);\n",
              "      fill: #174EA6;\n",
              "    }\n",
              "\n",
              "    [theme=dark] .colab-df-convert {\n",
              "      background-color: #3B4455;\n",
              "      fill: #D2E3FC;\n",
              "    }\n",
              "\n",
              "    [theme=dark] .colab-df-convert:hover {\n",
              "      background-color: #434B5C;\n",
              "      box-shadow: 0px 1px 3px 1px rgba(0, 0, 0, 0.15);\n",
              "      filter: drop-shadow(0px 1px 2px rgba(0, 0, 0, 0.3));\n",
              "      fill: #FFFFFF;\n",
              "    }\n",
              "  </style>\n",
              "\n",
              "      <script>\n",
              "        const buttonEl =\n",
              "          document.querySelector('#df-cf4a1dc9-668a-4ce6-aa33-85b91facaf8d button.colab-df-convert');\n",
              "        buttonEl.style.display =\n",
              "          google.colab.kernel.accessAllowed ? 'block' : 'none';\n",
              "\n",
              "        async function convertToInteractive(key) {\n",
              "          const element = document.querySelector('#df-cf4a1dc9-668a-4ce6-aa33-85b91facaf8d');\n",
              "          const dataTable =\n",
              "            await google.colab.kernel.invokeFunction('convertToInteractive',\n",
              "                                                     [key], {});\n",
              "          if (!dataTable) return;\n",
              "\n",
              "          const docLinkHtml = 'Like what you see? Visit the ' +\n",
              "            '<a target=\"_blank\" href=https://colab.research.google.com/notebooks/data_table.ipynb>data table notebook</a>'\n",
              "            + ' to learn more about interactive tables.';\n",
              "          element.innerHTML = '';\n",
              "          dataTable['output_type'] = 'display_data';\n",
              "          await google.colab.output.renderOutput(dataTable, element);\n",
              "          const docLink = document.createElement('div');\n",
              "          docLink.innerHTML = docLinkHtml;\n",
              "          element.appendChild(docLink);\n",
              "        }\n",
              "      </script>\n",
              "    </div>\n",
              "  </div>\n",
              "  "
            ]
          },
          "metadata": {},
          "execution_count": 42
        }
      ],
      "source": [
        "# Train data set consists of X_train_ig (with 500 features selected by Information Gain in Feature Selection notebook) and y_train\n",
        "data_train_ig = pd.concat([y_train, X_train_ig], axis=1).reset_index(level=0) \n",
        "data_train_ig = data_train_ig.drop(['index'],axis=1) \n",
        "data_train_ig.head()"
      ]
    },
    {
      "cell_type": "code",
      "execution_count": 43,
      "metadata": {
        "colab": {
          "base_uri": "https://localhost:8080/",
          "height": 365
        },
        "id": "hPW4jgbY6xhn",
        "outputId": "5a290ca7-9fc0-46a7-da07-e31bed077f32"
      },
      "outputs": [
        {
          "output_type": "execute_result",
          "data": {
            "text/plain": [
              "   seq_TEMP         A         C         E         I         K         L  \\\n",
              "0        37  0.129845  0.007752  0.067829  0.027132  0.017442  0.100775   \n",
              "1        60  0.122727  0.004545  0.027273  0.050000  0.045455  0.059091   \n",
              "2        36  0.092742  0.008065  0.068548  0.056452  0.032258  0.084677   \n",
              "3        74  0.051447  0.001608  0.061093  0.094855  0.065916  0.090032   \n",
              "4        28  0.057221  0.013624  0.079019  0.049046  0.108992  0.089918   \n",
              "\n",
              "          N         Q         R  ...  Normalized van der Waals Volume-T2332  \\\n",
              "0  0.029070  0.019380  0.079457  ...                               0.153398   \n",
              "1  0.077273  0.038636  0.018182  ...                               0.116173   \n",
              "2  0.064516  0.036290  0.056452  ...                               0.178138   \n",
              "3  0.078778  0.016077  0.041801  ...                               0.228663   \n",
              "4  0.062670  0.035422  0.032698  ...                               0.207650   \n",
              "\n",
              "   Polarity-T1331  Polarizability-T2332  Charge-T1221  Charge-T1331  \\\n",
              "0        0.198058              0.170874      0.151456      0.027184   \n",
              "1        0.182232              0.125285      0.100228      0.013667   \n",
              "2        0.238866              0.194332      0.145749      0.016194   \n",
              "3        0.278583              0.252818      0.157810      0.019324   \n",
              "4        0.267760              0.226776      0.169399      0.049180   \n",
              "\n",
              "   Solvent accessibility-T1221  Hydrophobicity_CASG920101-G1D100  \\\n",
              "0                     0.264078                         99.806202   \n",
              "1                     0.223235                        100.000000   \n",
              "2                     0.287449                        100.000000   \n",
              "3                     0.273752                         99.678457   \n",
              "4                     0.251366                        100.000000   \n",
              "\n",
              "   Hydrophobicity_FASG890101-G1D100  Normalized van der Waals Volume-G1D100  \\\n",
              "0                         99.612403                              100.000000   \n",
              "1                         96.136364                              100.000000   \n",
              "2                        100.000000                               97.580645   \n",
              "3                         99.196141                               98.713826   \n",
              "4                        100.000000                               99.182561   \n",
              "\n",
              "   Charge-G2D100  \n",
              "0     100.000000  \n",
              "1     100.000000  \n",
              "2     100.000000  \n",
              "3     100.000000  \n",
              "4      99.182561  \n",
              "\n",
              "[5 rows x 501 columns]"
            ],
            "text/html": [
              "\n",
              "  <div id=\"df-5e18e8c5-014b-4dfa-9e16-d7b1e3093d18\">\n",
              "    <div class=\"colab-df-container\">\n",
              "      <div>\n",
              "<style scoped>\n",
              "    .dataframe tbody tr th:only-of-type {\n",
              "        vertical-align: middle;\n",
              "    }\n",
              "\n",
              "    .dataframe tbody tr th {\n",
              "        vertical-align: top;\n",
              "    }\n",
              "\n",
              "    .dataframe thead th {\n",
              "        text-align: right;\n",
              "    }\n",
              "</style>\n",
              "<table border=\"1\" class=\"dataframe\">\n",
              "  <thead>\n",
              "    <tr style=\"text-align: right;\">\n",
              "      <th></th>\n",
              "      <th>seq_TEMP</th>\n",
              "      <th>A</th>\n",
              "      <th>C</th>\n",
              "      <th>E</th>\n",
              "      <th>I</th>\n",
              "      <th>K</th>\n",
              "      <th>L</th>\n",
              "      <th>N</th>\n",
              "      <th>Q</th>\n",
              "      <th>R</th>\n",
              "      <th>...</th>\n",
              "      <th>Normalized van der Waals Volume-T2332</th>\n",
              "      <th>Polarity-T1331</th>\n",
              "      <th>Polarizability-T2332</th>\n",
              "      <th>Charge-T1221</th>\n",
              "      <th>Charge-T1331</th>\n",
              "      <th>Solvent accessibility-T1221</th>\n",
              "      <th>Hydrophobicity_CASG920101-G1D100</th>\n",
              "      <th>Hydrophobicity_FASG890101-G1D100</th>\n",
              "      <th>Normalized van der Waals Volume-G1D100</th>\n",
              "      <th>Charge-G2D100</th>\n",
              "    </tr>\n",
              "  </thead>\n",
              "  <tbody>\n",
              "    <tr>\n",
              "      <th>0</th>\n",
              "      <td>37</td>\n",
              "      <td>0.129845</td>\n",
              "      <td>0.007752</td>\n",
              "      <td>0.067829</td>\n",
              "      <td>0.027132</td>\n",
              "      <td>0.017442</td>\n",
              "      <td>0.100775</td>\n",
              "      <td>0.029070</td>\n",
              "      <td>0.019380</td>\n",
              "      <td>0.079457</td>\n",
              "      <td>...</td>\n",
              "      <td>0.153398</td>\n",
              "      <td>0.198058</td>\n",
              "      <td>0.170874</td>\n",
              "      <td>0.151456</td>\n",
              "      <td>0.027184</td>\n",
              "      <td>0.264078</td>\n",
              "      <td>99.806202</td>\n",
              "      <td>99.612403</td>\n",
              "      <td>100.000000</td>\n",
              "      <td>100.000000</td>\n",
              "    </tr>\n",
              "    <tr>\n",
              "      <th>1</th>\n",
              "      <td>60</td>\n",
              "      <td>0.122727</td>\n",
              "      <td>0.004545</td>\n",
              "      <td>0.027273</td>\n",
              "      <td>0.050000</td>\n",
              "      <td>0.045455</td>\n",
              "      <td>0.059091</td>\n",
              "      <td>0.077273</td>\n",
              "      <td>0.038636</td>\n",
              "      <td>0.018182</td>\n",
              "      <td>...</td>\n",
              "      <td>0.116173</td>\n",
              "      <td>0.182232</td>\n",
              "      <td>0.125285</td>\n",
              "      <td>0.100228</td>\n",
              "      <td>0.013667</td>\n",
              "      <td>0.223235</td>\n",
              "      <td>100.000000</td>\n",
              "      <td>96.136364</td>\n",
              "      <td>100.000000</td>\n",
              "      <td>100.000000</td>\n",
              "    </tr>\n",
              "    <tr>\n",
              "      <th>2</th>\n",
              "      <td>36</td>\n",
              "      <td>0.092742</td>\n",
              "      <td>0.008065</td>\n",
              "      <td>0.068548</td>\n",
              "      <td>0.056452</td>\n",
              "      <td>0.032258</td>\n",
              "      <td>0.084677</td>\n",
              "      <td>0.064516</td>\n",
              "      <td>0.036290</td>\n",
              "      <td>0.056452</td>\n",
              "      <td>...</td>\n",
              "      <td>0.178138</td>\n",
              "      <td>0.238866</td>\n",
              "      <td>0.194332</td>\n",
              "      <td>0.145749</td>\n",
              "      <td>0.016194</td>\n",
              "      <td>0.287449</td>\n",
              "      <td>100.000000</td>\n",
              "      <td>100.000000</td>\n",
              "      <td>97.580645</td>\n",
              "      <td>100.000000</td>\n",
              "    </tr>\n",
              "    <tr>\n",
              "      <th>3</th>\n",
              "      <td>74</td>\n",
              "      <td>0.051447</td>\n",
              "      <td>0.001608</td>\n",
              "      <td>0.061093</td>\n",
              "      <td>0.094855</td>\n",
              "      <td>0.065916</td>\n",
              "      <td>0.090032</td>\n",
              "      <td>0.078778</td>\n",
              "      <td>0.016077</td>\n",
              "      <td>0.041801</td>\n",
              "      <td>...</td>\n",
              "      <td>0.228663</td>\n",
              "      <td>0.278583</td>\n",
              "      <td>0.252818</td>\n",
              "      <td>0.157810</td>\n",
              "      <td>0.019324</td>\n",
              "      <td>0.273752</td>\n",
              "      <td>99.678457</td>\n",
              "      <td>99.196141</td>\n",
              "      <td>98.713826</td>\n",
              "      <td>100.000000</td>\n",
              "    </tr>\n",
              "    <tr>\n",
              "      <th>4</th>\n",
              "      <td>28</td>\n",
              "      <td>0.057221</td>\n",
              "      <td>0.013624</td>\n",
              "      <td>0.079019</td>\n",
              "      <td>0.049046</td>\n",
              "      <td>0.108992</td>\n",
              "      <td>0.089918</td>\n",
              "      <td>0.062670</td>\n",
              "      <td>0.035422</td>\n",
              "      <td>0.032698</td>\n",
              "      <td>...</td>\n",
              "      <td>0.207650</td>\n",
              "      <td>0.267760</td>\n",
              "      <td>0.226776</td>\n",
              "      <td>0.169399</td>\n",
              "      <td>0.049180</td>\n",
              "      <td>0.251366</td>\n",
              "      <td>100.000000</td>\n",
              "      <td>100.000000</td>\n",
              "      <td>99.182561</td>\n",
              "      <td>99.182561</td>\n",
              "    </tr>\n",
              "  </tbody>\n",
              "</table>\n",
              "<p>5 rows × 501 columns</p>\n",
              "</div>\n",
              "      <button class=\"colab-df-convert\" onclick=\"convertToInteractive('df-5e18e8c5-014b-4dfa-9e16-d7b1e3093d18')\"\n",
              "              title=\"Convert this dataframe to an interactive table.\"\n",
              "              style=\"display:none;\">\n",
              "        \n",
              "  <svg xmlns=\"http://www.w3.org/2000/svg\" height=\"24px\"viewBox=\"0 0 24 24\"\n",
              "       width=\"24px\">\n",
              "    <path d=\"M0 0h24v24H0V0z\" fill=\"none\"/>\n",
              "    <path d=\"M18.56 5.44l.94 2.06.94-2.06 2.06-.94-2.06-.94-.94-2.06-.94 2.06-2.06.94zm-11 1L8.5 8.5l.94-2.06 2.06-.94-2.06-.94L8.5 2.5l-.94 2.06-2.06.94zm10 10l.94 2.06.94-2.06 2.06-.94-2.06-.94-.94-2.06-.94 2.06-2.06.94z\"/><path d=\"M17.41 7.96l-1.37-1.37c-.4-.4-.92-.59-1.43-.59-.52 0-1.04.2-1.43.59L10.3 9.45l-7.72 7.72c-.78.78-.78 2.05 0 2.83L4 21.41c.39.39.9.59 1.41.59.51 0 1.02-.2 1.41-.59l7.78-7.78 2.81-2.81c.8-.78.8-2.07 0-2.86zM5.41 20L4 18.59l7.72-7.72 1.47 1.35L5.41 20z\"/>\n",
              "  </svg>\n",
              "      </button>\n",
              "      \n",
              "  <style>\n",
              "    .colab-df-container {\n",
              "      display:flex;\n",
              "      flex-wrap:wrap;\n",
              "      gap: 12px;\n",
              "    }\n",
              "\n",
              "    .colab-df-convert {\n",
              "      background-color: #E8F0FE;\n",
              "      border: none;\n",
              "      border-radius: 50%;\n",
              "      cursor: pointer;\n",
              "      display: none;\n",
              "      fill: #1967D2;\n",
              "      height: 32px;\n",
              "      padding: 0 0 0 0;\n",
              "      width: 32px;\n",
              "    }\n",
              "\n",
              "    .colab-df-convert:hover {\n",
              "      background-color: #E2EBFA;\n",
              "      box-shadow: 0px 1px 2px rgba(60, 64, 67, 0.3), 0px 1px 3px 1px rgba(60, 64, 67, 0.15);\n",
              "      fill: #174EA6;\n",
              "    }\n",
              "\n",
              "    [theme=dark] .colab-df-convert {\n",
              "      background-color: #3B4455;\n",
              "      fill: #D2E3FC;\n",
              "    }\n",
              "\n",
              "    [theme=dark] .colab-df-convert:hover {\n",
              "      background-color: #434B5C;\n",
              "      box-shadow: 0px 1px 3px 1px rgba(0, 0, 0, 0.15);\n",
              "      filter: drop-shadow(0px 1px 2px rgba(0, 0, 0, 0.3));\n",
              "      fill: #FFFFFF;\n",
              "    }\n",
              "  </style>\n",
              "\n",
              "      <script>\n",
              "        const buttonEl =\n",
              "          document.querySelector('#df-5e18e8c5-014b-4dfa-9e16-d7b1e3093d18 button.colab-df-convert');\n",
              "        buttonEl.style.display =\n",
              "          google.colab.kernel.accessAllowed ? 'block' : 'none';\n",
              "\n",
              "        async function convertToInteractive(key) {\n",
              "          const element = document.querySelector('#df-5e18e8c5-014b-4dfa-9e16-d7b1e3093d18');\n",
              "          const dataTable =\n",
              "            await google.colab.kernel.invokeFunction('convertToInteractive',\n",
              "                                                     [key], {});\n",
              "          if (!dataTable) return;\n",
              "\n",
              "          const docLinkHtml = 'Like what you see? Visit the ' +\n",
              "            '<a target=\"_blank\" href=https://colab.research.google.com/notebooks/data_table.ipynb>data table notebook</a>'\n",
              "            + ' to learn more about interactive tables.';\n",
              "          element.innerHTML = '';\n",
              "          dataTable['output_type'] = 'display_data';\n",
              "          await google.colab.output.renderOutput(dataTable, element);\n",
              "          const docLink = document.createElement('div');\n",
              "          docLink.innerHTML = docLinkHtml;\n",
              "          element.appendChild(docLink);\n",
              "        }\n",
              "      </script>\n",
              "    </div>\n",
              "  </div>\n",
              "  "
            ]
          },
          "metadata": {},
          "execution_count": 43
        }
      ],
      "source": [
        "# Test data set consists of X_test_ig (with 500 features selected by Information Gain in Feature Selection notebook) and y_test\n",
        "data_test_ig = pd.concat([y_test, X_test_ig], axis=1).reset_index(level=0) \n",
        "data_test_ig = data_test_ig.drop(['index'],axis=1) \n",
        "data_test_ig.head()"
      ]
    },
    {
      "cell_type": "markdown",
      "source": [
        "# **Chi-Merge algorithm**"
      ],
      "metadata": {
        "id": "IWzexAMoLL6P"
      }
    },
    {
      "cell_type": "markdown",
      "source": [
        "The Chi2 algorithm for discretization applied to compute the best interval for splitting the continuous variable (Topt) based on the number of intervals. The code is borrowed from https://gist.github.com/alanzchen/17d0c4a45d59b79052b1cd07f531689e\n"
      ],
      "metadata": {
        "id": "Kx6n4RWUMKBd"
      }
    },
    {
      "cell_type": "code",
      "execution_count": 12,
      "metadata": {
        "id": "hREsiKRe6xbo"
      },
      "outputs": [],
      "source": [
        "def chimerge(data, attr, label, max_intervals):\n",
        "    distinct_vals = sorted(set(data[attr])) # The training examples are sorted according to their values\n",
        "    labels = sorted(set(data[label])) # Get all possible labels\n",
        "    empty_count = {l: 0 for l in labels} # A helper function for padding the Counter()\n",
        "    intervals = [[distinct_vals[i], distinct_vals[i]] for i in range(len(distinct_vals))] # Each example is put into its own interval\n",
        "    while len(intervals) > max_intervals: # While loop\n",
        "        chi = []\n",
        "        for i in range(len(intervals)-1):\n",
        "            # Calculate the Chi2 value\n",
        "            obs0 = data[data[attr].between(intervals[i][0], intervals[i][1])]\n",
        "            obs1 = data[data[attr].between(intervals[i+1][0], intervals[i+1][1])]\n",
        "            total = len(obs0) + len(obs1)\n",
        "            count_0 = np.array([v for i, v in {**empty_count, **Counter(obs0[label])}.items()])\n",
        "            count_1 = np.array([v for i, v in {**empty_count, **Counter(obs1[label])}.items()])\n",
        "            count_total = count_0 + count_1\n",
        "            expected_0 = count_total*sum(count_0)/total\n",
        "            expected_1 = count_total*sum(count_1)/total\n",
        "            chi_ = (count_0 - expected_0)**2/expected_0 + (count_1 - expected_1)**2/expected_1\n",
        "            chi_ = np.nan_to_num(chi_) # Deal with the zero counts\n",
        "            chi.append(sum(chi_)) # Finally do the summation for Chi2\n",
        "        min_chi = min(chi) # Find the minimal Chi2 for current iteration\n",
        "        for i, v in enumerate(chi):\n",
        "            if v == min_chi:\n",
        "                min_chi_index = i # Find the index of the interval to be merged\n",
        "                break\n",
        "        new_intervals = [] # Prepare for the merged new data array\n",
        "        skip = False\n",
        "        done = False\n",
        "        for i in range(len(intervals)):\n",
        "            if skip:\n",
        "                skip = False\n",
        "                continue\n",
        "            if i == min_chi_index and not done: # Merge the intervals\n",
        "                t = intervals[i] + intervals[i+1]\n",
        "                new_intervals.append([min(t), max(t)])\n",
        "                skip = True\n",
        "                done = True\n",
        "            else:\n",
        "                new_intervals.append(intervals[i])\n",
        "        intervals = new_intervals\n",
        "    for i in intervals:\n",
        "        print('[', i[0], ',', i[1], ']', sep='')"
      ]
    },
    {
      "cell_type": "code",
      "execution_count": 21,
      "metadata": {
        "colab": {
          "base_uri": "https://localhost:8080/"
        },
        "id": "fLy9MOP76xfS",
        "outputId": "96e6f894-daf6-4a75-cd15-5f23fdd4ce29"
      },
      "outputs": [
        {
          "output_type": "stream",
          "name": "stdout",
          "text": [
            "Interval for seq_TEMP\n"
          ]
        },
        {
          "output_type": "stream",
          "name": "stderr",
          "text": [
            "<ipython-input-12-022a07f50c98>:18: RuntimeWarning: invalid value encountered in true_divide\n",
            "  chi_ = (count_0 - expected_0)**2/expected_0 + (count_1 - expected_1)**2/expected_1\n"
          ]
        },
        {
          "output_type": "stream",
          "name": "stdout",
          "text": [
            "[8,29]\n",
            "[30,36]\n",
            "[37,99]\n"
          ]
        }
      ],
      "source": [
        "#Computed 3 intervals for splitting Topt\n",
        "for attr in ['seq_TEMP']:\n",
        "    print('Interval for', attr)\n",
        "    chimerge(data=data_train_ig, attr=attr, label='seq_TEMP', max_intervals=3)"
      ]
    },
    {
      "cell_type": "code",
      "source": [
        "#Computed 4 intervals for splitting Topt\n",
        "for attr in ['seq_TEMP']:\n",
        "    print('Interval for', attr)\n",
        "    chimerge(data=data_train_ig, attr=attr, label='seq_TEMP', max_intervals=4)"
      ],
      "metadata": {
        "colab": {
          "base_uri": "https://localhost:8080/"
        },
        "id": "g1S_wuGATwj2",
        "outputId": "d25dc895-4ee0-40e4-f211-a603ca5a431d"
      },
      "execution_count": 10,
      "outputs": [
        {
          "output_type": "stream",
          "name": "stdout",
          "text": [
            "Interval for seq_TEMP\n"
          ]
        },
        {
          "output_type": "stream",
          "name": "stderr",
          "text": [
            "<ipython-input-1-022a07f50c98>:18: RuntimeWarning: invalid value encountered in true_divide\n",
            "  chi_ = (count_0 - expected_0)**2/expected_0 + (count_1 - expected_1)**2/expected_1\n"
          ]
        },
        {
          "output_type": "stream",
          "name": "stdout",
          "text": [
            "[8,29]\n",
            "[30,36]\n",
            "[37,37]\n",
            "[40,99]\n"
          ]
        }
      ]
    },
    {
      "cell_type": "code",
      "source": [
        "#Computed 5 intervals for splitting Topt\n",
        "for attr in ['seq_TEMP']:\n",
        "    print('Interval for', attr)\n",
        "    chimerge(data=data_train_ig, attr=attr, label='seq_TEMP', max_intervals=5)"
      ],
      "metadata": {
        "colab": {
          "base_uri": "https://localhost:8080/"
        },
        "id": "BSXxWt1aUkTz",
        "outputId": "85695f6d-3e23-4bc2-9462-263df8f4a78e"
      },
      "execution_count": 11,
      "outputs": [
        {
          "output_type": "stream",
          "name": "stdout",
          "text": [
            "Interval for seq_TEMP\n"
          ]
        },
        {
          "output_type": "stream",
          "name": "stderr",
          "text": [
            "<ipython-input-1-022a07f50c98>:18: RuntimeWarning: invalid value encountered in true_divide\n",
            "  chi_ = (count_0 - expected_0)**2/expected_0 + (count_1 - expected_1)**2/expected_1\n"
          ]
        },
        {
          "output_type": "stream",
          "name": "stdout",
          "text": [
            "[8,25]\n",
            "[26,29]\n",
            "[30,36]\n",
            "[37,37]\n",
            "[40,99]\n"
          ]
        }
      ]
    },
    {
      "cell_type": "markdown",
      "source": [
        "# **Testing computed intervals**"
      ],
      "metadata": {
        "id": "Gv7yDQubgMEQ"
      }
    },
    {
      "cell_type": "markdown",
      "source": [
        "To select an optimal number of splits, the performances of random forests models were compared. Specifically, the change in mean squared errors (MSE) across intervals."
      ],
      "metadata": {
        "id": "5TjIM5tDgTX-"
      }
    },
    {
      "cell_type": "code",
      "source": [
        "#Random forests\n",
        "clf = RandomForestRegressor(random_state=0).fit(X_train_ig, y_train)\n",
        "y_pred=clf.predict(X_test_ig)\n",
        "\n",
        "print('MSE on test set: {:.2f}'\n",
        "     .format(mean_squared_error(y_test, y_pred)))\n",
        "print('Accuracy of Decision Tree regressor on training set: {:.2f}'\n",
        "     .format(clf.score(X_train_ig, y_train)))\n",
        "print('Accuracy of Decision Tree regressor on test set: {:.2f}'\n",
        "     .format(clf.score(X_test_ig, y_test)))"
      ],
      "metadata": {
        "colab": {
          "base_uri": "https://localhost:8080/"
        },
        "id": "Mn03obL5hXxE",
        "outputId": "4e76a44e-947e-48f6-c619-ed1df649cd94"
      },
      "execution_count": 27,
      "outputs": [
        {
          "output_type": "stream",
          "name": "stdout",
          "text": [
            "MSE on test set: 119.06\n",
            "Accuracy of Decision Tree regressor on training set: 0.95\n",
            "Accuracy of Decision Tree regressor on test set: 0.70\n"
          ]
        }
      ]
    },
    {
      "cell_type": "markdown",
      "metadata": {
        "id": "tRbeCAoPNmaA"
      },
      "source": [
        "## 3 *intervals* (8-29°C, 30-36°C, 37-99°C)"
      ]
    },
    {
      "cell_type": "code",
      "execution_count": 49,
      "metadata": {
        "id": "b6jGztQjiWeU",
        "colab": {
          "base_uri": "https://localhost:8080/"
        },
        "outputId": "d5f7452c-63e0-4f0b-fe79-ea30950798d5"
      },
      "outputs": [
        {
          "output_type": "execute_result",
          "data": {
            "text/plain": [
              "(295, 501)"
            ]
          },
          "metadata": {},
          "execution_count": 49
        }
      ],
      "source": [
        "#define X and y for the interval 4-29°C\n",
        "bin4_29=data_test_ig[data_test_ig['seq_TEMP'] <30]\n",
        "\n",
        "X_test4_29 = bin4_29.drop(['seq_TEMP'], axis=1)\n",
        "y_test4_29 = bin4_29['seq_TEMP']\n",
        "\n",
        "bin4_29.shape"
      ]
    },
    {
      "cell_type": "code",
      "execution_count": 50,
      "metadata": {
        "colab": {
          "base_uri": "https://localhost:8080/"
        },
        "outputId": "58535835-e733-431d-d520-62fed17b4339",
        "id": "D5BXSsRBrLEo"
      },
      "outputs": [
        {
          "output_type": "stream",
          "name": "stdout",
          "text": [
            "MSE on test set: 82.46\n"
          ]
        }
      ],
      "source": [
        "#compute MSE for the interval  4-29°C\n",
        "y_pred4_29=clf.predict(X_test4_29)\n",
        "\n",
        "print('MSE on test set: {:.2f}'\n",
        "     .format(mean_squared_error(y_test4_29, y_pred4_29)))\n"
      ]
    },
    {
      "cell_type": "code",
      "execution_count": 51,
      "metadata": {
        "id": "Mv_4ZwlZNpEV",
        "colab": {
          "base_uri": "https://localhost:8080/"
        },
        "outputId": "e2aeeea4-6ea0-43ef-ecf0-1873fe88a6c0"
      },
      "outputs": [
        {
          "output_type": "execute_result",
          "data": {
            "text/plain": [
              "(254, 501)"
            ]
          },
          "metadata": {},
          "execution_count": 51
        }
      ],
      "source": [
        "#define X and y for the interval 30-36°C\n",
        "bin30_36=data_test_ig[(data_test_ig['seq_TEMP']>= 30) & (data_test_ig['seq_TEMP'] < 37)]\n",
        "\n",
        "X_test30_36 = bin30_36.drop(['seq_TEMP'], axis=1)\n",
        "y_test30_36 = bin30_36['seq_TEMP']\n",
        "\n",
        "bin30_36.shape"
      ]
    },
    {
      "cell_type": "code",
      "execution_count": 52,
      "metadata": {
        "colab": {
          "base_uri": "https://localhost:8080/"
        },
        "id": "BcCceAjuOQ3f",
        "outputId": "0b96c210-50a8-4465-eb2e-468b812976c8"
      },
      "outputs": [
        {
          "output_type": "stream",
          "name": "stdout",
          "text": [
            "MSE on test set: 45.64\n"
          ]
        }
      ],
      "source": [
        "#compute MSE for the interval  30-36°C\n",
        "y_pred30_36=clf.predict(X_test30_36)\n",
        "\n",
        "print('MSE on test set: {:.2f}'\n",
        "     .format(mean_squared_error(y_test30_36, y_pred30_36)))"
      ]
    },
    {
      "cell_type": "code",
      "execution_count": 53,
      "metadata": {
        "id": "CaVubK89NpHK",
        "colab": {
          "base_uri": "https://localhost:8080/"
        },
        "outputId": "53a28675-a23f-417d-a990-49b287cce821"
      },
      "outputs": [
        {
          "output_type": "execute_result",
          "data": {
            "text/plain": [
              "(327, 501)"
            ]
          },
          "metadata": {},
          "execution_count": 53
        }
      ],
      "source": [
        "#define X and y for the interval 37-99°C\n",
        "bin37_99=data_test_ig[data_test_ig['seq_TEMP']>= 37]\n",
        "\n",
        "X_test37_99 = bin37_99.drop(['seq_TEMP'], axis=1)\n",
        "y_test37_99 = bin37_99['seq_TEMP']\n",
        "\n",
        "bin37_99.shape"
      ]
    },
    {
      "cell_type": "code",
      "execution_count": 54,
      "metadata": {
        "colab": {
          "base_uri": "https://localhost:8080/"
        },
        "id": "WtdlCtDUOQ6S",
        "outputId": "d57ec048-ebb1-45a1-f8f3-118b47b9d4df"
      },
      "outputs": [
        {
          "output_type": "stream",
          "name": "stdout",
          "text": [
            "MSE on test set: 209.10\n"
          ]
        }
      ],
      "source": [
        "#compute MSE for the interval  37-99°C\n",
        "y_pred37_99=clf.predict(X_test37_99)\n",
        "\n",
        "print('MSE on test set: {:.2f}'\n",
        "     .format(mean_squared_error(y_test37_99, y_pred37_99)))"
      ]
    },
    {
      "cell_type": "markdown",
      "source": [
        "Overall, MSE across intervals decreased from 119.06 (for whole data set) to 45.64 for the interval 30-36°C and 82.46 for the interval 4-29°C. The exception is the interval 37-99°C where MSE increased significantly to 209.10."
      ],
      "metadata": {
        "id": "_c4DhkJZtH15"
      }
    },
    {
      "cell_type": "markdown",
      "metadata": {
        "id": "I2iFEmtApo58"
      },
      "source": [
        "## 4 intervals (8-29°C, 30-36°C, 37-37°C, 40-99°C)"
      ]
    },
    {
      "cell_type": "code",
      "execution_count": 56,
      "metadata": {
        "colab": {
          "base_uri": "https://localhost:8080/"
        },
        "outputId": "739d7e9a-8e43-4bfb-e03b-63c9607212bf",
        "id": "nayCbd-Epo6B"
      },
      "outputs": [
        {
          "output_type": "execute_result",
          "data": {
            "text/plain": [
              "(107, 501)"
            ]
          },
          "metadata": {},
          "execution_count": 56
        }
      ],
      "source": [
        "#define X and y for the interval 37-37°C\n",
        "bin37_37=data_test_ig[data_test_ig['seq_TEMP'] == 37]\n",
        "\n",
        "X_test37_37 = bin37_37.drop(['seq_TEMP'], axis=1)\n",
        "y_test37_37 = bin37_37['seq_TEMP']\n",
        "\n",
        "bin37_37.shape"
      ]
    },
    {
      "cell_type": "code",
      "execution_count": 57,
      "metadata": {
        "colab": {
          "base_uri": "https://localhost:8080/"
        },
        "outputId": "ecbfb35e-6006-4570-f333-28811e37c9cc",
        "id": "b-8sNXghpo6D"
      },
      "outputs": [
        {
          "output_type": "stream",
          "name": "stdout",
          "text": [
            "MSE on test set: 57.33\n"
          ]
        }
      ],
      "source": [
        "#compute MSE for the interval  37-37°C\n",
        "\n",
        "y_pred37_37=clf.predict(X_test37_37)\n",
        "\n",
        "print('MSE on test set: {:.2f}'\n",
        "     .format(mean_squared_error(y_test37_37, y_pred37_37)))"
      ]
    },
    {
      "cell_type": "code",
      "execution_count": 58,
      "metadata": {
        "colab": {
          "base_uri": "https://localhost:8080/"
        },
        "outputId": "d3ae3068-f889-4460-f06d-52603709db9b",
        "id": "710_o0SKps-H"
      },
      "outputs": [
        {
          "output_type": "execute_result",
          "data": {
            "text/plain": [
              "(219, 501)"
            ]
          },
          "metadata": {},
          "execution_count": 58
        }
      ],
      "source": [
        "#define X and y for the interval 40-99°C\n",
        "bin40_99=data_test_ig[(data_test_ig['seq_TEMP']>= 40) & (data_test_ig['seq_TEMP'] < 100)]\n",
        "\n",
        "X_test40_99 = bin40_99.drop(['seq_TEMP'], axis=1)\n",
        "y_test40_99 = bin40_99['seq_TEMP']\n",
        "\n",
        "bin40_99.shape"
      ]
    },
    {
      "cell_type": "code",
      "execution_count": 59,
      "metadata": {
        "colab": {
          "base_uri": "https://localhost:8080/"
        },
        "outputId": "42113332-6ada-4130-dbb6-713ebc002453",
        "id": "G5hi_JU1ps-I"
      },
      "outputs": [
        {
          "output_type": "stream",
          "name": "stdout",
          "text": [
            "MSE on test set: 284.15\n"
          ]
        }
      ],
      "source": [
        "#compute MSE for the interval  40-99°C\n",
        "y_pred40_99=clf.predict(X_test40_99)\n",
        "\n",
        "print('MSE on test set: {:.2f}'\n",
        "     .format(mean_squared_error(y_test40_99, y_pred40_99)))"
      ]
    },
    {
      "cell_type": "markdown",
      "source": [
        "When splitting Topt into 4 intervals, Chi-Merge interval suggests to further granulate the interval 37-99°C  into two intervals 37-37°C and 40-99°C. This decreases MSE from 209.10 for the interval 37-99°C to 57.33 for the interval 37-37°C, but increases MSE to 284.15 for the interval 40-99°C.\n"
      ],
      "metadata": {
        "id": "wUalo-HUvN9u"
      }
    },
    {
      "cell_type": "markdown",
      "metadata": {
        "id": "e3L94IVvppin"
      },
      "source": [
        "## 5 intervals (8-25°C, 26-29°C, 30-36°C, 37-37°C, 40-99°C)"
      ]
    },
    {
      "cell_type": "code",
      "execution_count": 62,
      "metadata": {
        "colab": {
          "base_uri": "https://localhost:8080/"
        },
        "outputId": "e38c33a2-7ed1-40bb-fdf6-07ec9f8fee29",
        "id": "q8Dgg7Itxo9o"
      },
      "outputs": [
        {
          "output_type": "execute_result",
          "data": {
            "text/plain": [
              "(118, 501)"
            ]
          },
          "metadata": {},
          "execution_count": 62
        }
      ],
      "source": [
        "#define X and y for the interval 4-25°C\n",
        "bin4_25=data_test_ig[data_test_ig['seq_TEMP'] <= 25]\n",
        "\n",
        "X_test4_25 = bin4_25.drop(['seq_TEMP'], axis=1)\n",
        "y_test4_25 = bin4_25['seq_TEMP']\n",
        "\n",
        "bin4_25.shape"
      ]
    },
    {
      "cell_type": "code",
      "execution_count": 63,
      "metadata": {
        "colab": {
          "base_uri": "https://localhost:8080/"
        },
        "outputId": "c1a0bc60-dc1a-4856-a6c1-db07c6898b4a",
        "id": "2wMUwdqlxo9p"
      },
      "outputs": [
        {
          "output_type": "stream",
          "name": "stdout",
          "text": [
            "MSE on test set: 102.93\n"
          ]
        }
      ],
      "source": [
        "#compute MSE for the interval  4-25°C\n",
        "y_pred4_25=clf.predict(X_test4_25)\n",
        "\n",
        "print('MSE on test set: {:.2f}'\n",
        "     .format(mean_squared_error(y_test4_25, y_pred4_25)))\n"
      ]
    },
    {
      "cell_type": "code",
      "execution_count": 64,
      "metadata": {
        "colab": {
          "base_uri": "https://localhost:8080/"
        },
        "outputId": "bd81be6d-129b-45dd-f9c9-1468225bdab1",
        "id": "s3EYKnwRw9Is"
      },
      "outputs": [
        {
          "output_type": "execute_result",
          "data": {
            "text/plain": [
              "(177, 501)"
            ]
          },
          "metadata": {},
          "execution_count": 64
        }
      ],
      "source": [
        "#define X and y for the interval 26-29°C\n",
        "bin26_29=data_test_ig[(data_test_ig['seq_TEMP']>= 26) & (data_test_ig['seq_TEMP'] <30)]\n",
        "\n",
        "X_test26_29 = bin26_29.drop(['seq_TEMP'], axis=1)\n",
        "y_test26_29 = bin26_29['seq_TEMP']\n",
        "\n",
        "bin26_29.shape"
      ]
    },
    {
      "cell_type": "code",
      "execution_count": 65,
      "metadata": {
        "colab": {
          "base_uri": "https://localhost:8080/"
        },
        "outputId": "5994e33b-a66b-4938-c962-817e2b9fa166",
        "id": "y6F4zIMKw9It"
      },
      "outputs": [
        {
          "output_type": "stream",
          "name": "stdout",
          "text": [
            "MSE on test set: 68.82\n"
          ]
        }
      ],
      "source": [
        "#compute MSE for the interval  26-29°C\n",
        "y_pred26_29=clf.predict(X_test26_29)\n",
        "\n",
        "print('MSE on test set: {:.2f}'\n",
        "     .format(mean_squared_error(y_test26_29, y_pred26_29)))"
      ]
    },
    {
      "cell_type": "markdown",
      "source": [
        "When splitting Topt into 5 intervals, Chi-Merge interval suggests to further granulate the interval 8-29°C  into two intervals 8-25°C and 26-29°C. This decreases MSE from 82.46 for the interval 8-29°C to 68.82 for the interval 26-29°C, but increases MSE to 102.93 for the interval 8-25°C.\n"
      ],
      "metadata": {
        "id": "EE67OIM2yOM4"
      }
    },
    {
      "cell_type": "markdown",
      "source": [
        "Although splitting Topt into numerous intervals may bring its advantages, the 3 intervals split (8-29°C, 30-36°C, 37-99°C) was chosen for this work."
      ],
      "metadata": {
        "id": "E7Ty7FXJzwMQ"
      }
    }
  ]
}