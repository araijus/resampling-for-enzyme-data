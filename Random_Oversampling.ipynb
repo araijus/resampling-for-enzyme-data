{
  "nbformat": 4,
  "nbformat_minor": 0,
  "metadata": {
    "colab": {
      "provenance": [],
      "toc_visible": true
    },
    "kernelspec": {
      "name": "python3",
      "display_name": "Python 3"
    },
    "language_info": {
      "name": "python"
    }
  },
  "cells": [
    {
      "cell_type": "markdown",
      "source": [
        "This notebook includes Random Oversampling applied to the training set and visualisations of the oversampling technique (distribution of the resampled data and t-SNE).\n",
        "\n"
      ],
      "metadata": {
        "id": "3rEdw5f8KHGs"
      }
    },
    {
      "cell_type": "markdown",
      "source": [
        "# **Import libraries and data**"
      ],
      "metadata": {
        "id": "bza-f1BPMoI4"
      }
    },
    {
      "cell_type": "code",
      "execution_count": null,
      "metadata": {
        "id": "y7ggXdKRiWhC"
      },
      "outputs": [],
      "source": [
        "!pip install git+https://github.com/paobranco/ImbalancedLearningRegression.git"
      ]
    },
    {
      "cell_type": "code",
      "execution_count": null,
      "metadata": {
        "id": "PSa4mik1BJrE"
      },
      "outputs": [],
      "source": [
        "import pandas as pd\n",
        "import numpy as np\n",
        "import seaborn as sns\n",
        "import ImbalancedLearningRegression as iblr\n",
        "from sklearn.manifold import TSNE\n",
        "from sklearn.preprocessing import StandardScaler\n",
        "import matplotlib.pyplot as plt\n",
        "sns.set_style(\"whitegrid\")\n",
        "plt.style.use(\"fivethirtyeight\")"
      ]
    },
    {
      "cell_type": "code",
      "execution_count": null,
      "metadata": {
        "colab": {
          "base_uri": "https://localhost:8080/",
          "height": 369
        },
        "id": "FXcKwki_QTSM",
        "outputId": "625d78e7-bd12-4aa9-ab04-1efa99116a36"
      },
      "outputs": [
        {
          "data": {
            "text/html": [
              "\n",
              "  <div id=\"df-bdc1328d-5f31-485c-af59-b4d6ed04162b\">\n",
              "    <div class=\"colab-df-container\">\n",
              "      <div>\n",
              "<style scoped>\n",
              "    .dataframe tbody tr th:only-of-type {\n",
              "        vertical-align: middle;\n",
              "    }\n",
              "\n",
              "    .dataframe tbody tr th {\n",
              "        vertical-align: top;\n",
              "    }\n",
              "\n",
              "    .dataframe thead th {\n",
              "        text-align: right;\n",
              "    }\n",
              "</style>\n",
              "<table border=\"1\" class=\"dataframe\">\n",
              "  <thead>\n",
              "    <tr style=\"text-align: right;\">\n",
              "      <th></th>\n",
              "      <th>seq_TEMP</th>\n",
              "      <th>A</th>\n",
              "      <th>C</th>\n",
              "      <th>E</th>\n",
              "      <th>I</th>\n",
              "      <th>K</th>\n",
              "      <th>L</th>\n",
              "      <th>N</th>\n",
              "      <th>Q</th>\n",
              "      <th>R</th>\n",
              "      <th>...</th>\n",
              "      <th>Normalized van der Waals Volume-T2332</th>\n",
              "      <th>Polarity-T1331</th>\n",
              "      <th>Polarizability-T2332</th>\n",
              "      <th>Charge-T1221</th>\n",
              "      <th>Charge-T1331</th>\n",
              "      <th>Solvent accessibility-T1221</th>\n",
              "      <th>Hydrophobicity_CASG920101-G1D100</th>\n",
              "      <th>Hydrophobicity_FASG890101-G1D100</th>\n",
              "      <th>Normalized van der Waals Volume-G1D100</th>\n",
              "      <th>Charge-G2D100</th>\n",
              "    </tr>\n",
              "  </thead>\n",
              "  <tbody>\n",
              "    <tr>\n",
              "      <th>0</th>\n",
              "      <td>26</td>\n",
              "      <td>0.128743</td>\n",
              "      <td>0.023952</td>\n",
              "      <td>0.059880</td>\n",
              "      <td>0.041916</td>\n",
              "      <td>0.017964</td>\n",
              "      <td>0.083832</td>\n",
              "      <td>0.020958</td>\n",
              "      <td>0.020958</td>\n",
              "      <td>0.083832</td>\n",
              "      <td>...</td>\n",
              "      <td>0.156156</td>\n",
              "      <td>0.213213</td>\n",
              "      <td>0.189189</td>\n",
              "      <td>0.150150</td>\n",
              "      <td>0.048048</td>\n",
              "      <td>0.237237</td>\n",
              "      <td>100.0000</td>\n",
              "      <td>100.000000</td>\n",
              "      <td>100.000000</td>\n",
              "      <td>100.000000</td>\n",
              "    </tr>\n",
              "    <tr>\n",
              "      <th>1</th>\n",
              "      <td>30</td>\n",
              "      <td>0.076923</td>\n",
              "      <td>0.008547</td>\n",
              "      <td>0.094017</td>\n",
              "      <td>0.065527</td>\n",
              "      <td>0.068376</td>\n",
              "      <td>0.096866</td>\n",
              "      <td>0.051282</td>\n",
              "      <td>0.025641</td>\n",
              "      <td>0.031339</td>\n",
              "      <td>...</td>\n",
              "      <td>0.180000</td>\n",
              "      <td>0.262857</td>\n",
              "      <td>0.200000</td>\n",
              "      <td>0.165714</td>\n",
              "      <td>0.034286</td>\n",
              "      <td>0.265714</td>\n",
              "      <td>99.7151</td>\n",
              "      <td>98.005698</td>\n",
              "      <td>100.000000</td>\n",
              "      <td>100.000000</td>\n",
              "    </tr>\n",
              "    <tr>\n",
              "      <th>2</th>\n",
              "      <td>74</td>\n",
              "      <td>0.043937</td>\n",
              "      <td>0.001757</td>\n",
              "      <td>0.072056</td>\n",
              "      <td>0.108963</td>\n",
              "      <td>0.077329</td>\n",
              "      <td>0.075571</td>\n",
              "      <td>0.047452</td>\n",
              "      <td>0.015817</td>\n",
              "      <td>0.038664</td>\n",
              "      <td>...</td>\n",
              "      <td>0.209507</td>\n",
              "      <td>0.278169</td>\n",
              "      <td>0.228873</td>\n",
              "      <td>0.181338</td>\n",
              "      <td>0.026408</td>\n",
              "      <td>0.288732</td>\n",
              "      <td>100.0000</td>\n",
              "      <td>100.000000</td>\n",
              "      <td>98.242531</td>\n",
              "      <td>100.000000</td>\n",
              "    </tr>\n",
              "    <tr>\n",
              "      <th>3</th>\n",
              "      <td>90</td>\n",
              "      <td>0.066055</td>\n",
              "      <td>0.009174</td>\n",
              "      <td>0.102752</td>\n",
              "      <td>0.047706</td>\n",
              "      <td>0.051376</td>\n",
              "      <td>0.095413</td>\n",
              "      <td>0.011009</td>\n",
              "      <td>0.020183</td>\n",
              "      <td>0.106422</td>\n",
              "      <td>...</td>\n",
              "      <td>0.200368</td>\n",
              "      <td>0.257353</td>\n",
              "      <td>0.250000</td>\n",
              "      <td>0.213235</td>\n",
              "      <td>0.053309</td>\n",
              "      <td>0.321691</td>\n",
              "      <td>100.0000</td>\n",
              "      <td>100.000000</td>\n",
              "      <td>99.816514</td>\n",
              "      <td>99.816514</td>\n",
              "    </tr>\n",
              "    <tr>\n",
              "      <th>4</th>\n",
              "      <td>29</td>\n",
              "      <td>0.067146</td>\n",
              "      <td>0.007194</td>\n",
              "      <td>0.086331</td>\n",
              "      <td>0.074341</td>\n",
              "      <td>0.050360</td>\n",
              "      <td>0.076739</td>\n",
              "      <td>0.047962</td>\n",
              "      <td>0.069544</td>\n",
              "      <td>0.045564</td>\n",
              "      <td>...</td>\n",
              "      <td>0.197115</td>\n",
              "      <td>0.204327</td>\n",
              "      <td>0.209135</td>\n",
              "      <td>0.149038</td>\n",
              "      <td>0.028846</td>\n",
              "      <td>0.257212</td>\n",
              "      <td>100.0000</td>\n",
              "      <td>100.000000</td>\n",
              "      <td>100.000000</td>\n",
              "      <td>100.000000</td>\n",
              "    </tr>\n",
              "  </tbody>\n",
              "</table>\n",
              "<p>5 rows × 501 columns</p>\n",
              "</div>\n",
              "      <button class=\"colab-df-convert\" onclick=\"convertToInteractive('df-bdc1328d-5f31-485c-af59-b4d6ed04162b')\"\n",
              "              title=\"Convert this dataframe to an interactive table.\"\n",
              "              style=\"display:none;\">\n",
              "        \n",
              "  <svg xmlns=\"http://www.w3.org/2000/svg\" height=\"24px\"viewBox=\"0 0 24 24\"\n",
              "       width=\"24px\">\n",
              "    <path d=\"M0 0h24v24H0V0z\" fill=\"none\"/>\n",
              "    <path d=\"M18.56 5.44l.94 2.06.94-2.06 2.06-.94-2.06-.94-.94-2.06-.94 2.06-2.06.94zm-11 1L8.5 8.5l.94-2.06 2.06-.94-2.06-.94L8.5 2.5l-.94 2.06-2.06.94zm10 10l.94 2.06.94-2.06 2.06-.94-2.06-.94-.94-2.06-.94 2.06-2.06.94z\"/><path d=\"M17.41 7.96l-1.37-1.37c-.4-.4-.92-.59-1.43-.59-.52 0-1.04.2-1.43.59L10.3 9.45l-7.72 7.72c-.78.78-.78 2.05 0 2.83L4 21.41c.39.39.9.59 1.41.59.51 0 1.02-.2 1.41-.59l7.78-7.78 2.81-2.81c.8-.78.8-2.07 0-2.86zM5.41 20L4 18.59l7.72-7.72 1.47 1.35L5.41 20z\"/>\n",
              "  </svg>\n",
              "      </button>\n",
              "      \n",
              "  <style>\n",
              "    .colab-df-container {\n",
              "      display:flex;\n",
              "      flex-wrap:wrap;\n",
              "      gap: 12px;\n",
              "    }\n",
              "\n",
              "    .colab-df-convert {\n",
              "      background-color: #E8F0FE;\n",
              "      border: none;\n",
              "      border-radius: 50%;\n",
              "      cursor: pointer;\n",
              "      display: none;\n",
              "      fill: #1967D2;\n",
              "      height: 32px;\n",
              "      padding: 0 0 0 0;\n",
              "      width: 32px;\n",
              "    }\n",
              "\n",
              "    .colab-df-convert:hover {\n",
              "      background-color: #E2EBFA;\n",
              "      box-shadow: 0px 1px 2px rgba(60, 64, 67, 0.3), 0px 1px 3px 1px rgba(60, 64, 67, 0.15);\n",
              "      fill: #174EA6;\n",
              "    }\n",
              "\n",
              "    [theme=dark] .colab-df-convert {\n",
              "      background-color: #3B4455;\n",
              "      fill: #D2E3FC;\n",
              "    }\n",
              "\n",
              "    [theme=dark] .colab-df-convert:hover {\n",
              "      background-color: #434B5C;\n",
              "      box-shadow: 0px 1px 3px 1px rgba(0, 0, 0, 0.15);\n",
              "      filter: drop-shadow(0px 1px 2px rgba(0, 0, 0, 0.3));\n",
              "      fill: #FFFFFF;\n",
              "    }\n",
              "  </style>\n",
              "\n",
              "      <script>\n",
              "        const buttonEl =\n",
              "          document.querySelector('#df-bdc1328d-5f31-485c-af59-b4d6ed04162b button.colab-df-convert');\n",
              "        buttonEl.style.display =\n",
              "          google.colab.kernel.accessAllowed ? 'block' : 'none';\n",
              "\n",
              "        async function convertToInteractive(key) {\n",
              "          const element = document.querySelector('#df-bdc1328d-5f31-485c-af59-b4d6ed04162b');\n",
              "          const dataTable =\n",
              "            await google.colab.kernel.invokeFunction('convertToInteractive',\n",
              "                                                     [key], {});\n",
              "          if (!dataTable) return;\n",
              "\n",
              "          const docLinkHtml = 'Like what you see? Visit the ' +\n",
              "            '<a target=\"_blank\" href=https://colab.research.google.com/notebooks/data_table.ipynb>data table notebook</a>'\n",
              "            + ' to learn more about interactive tables.';\n",
              "          element.innerHTML = '';\n",
              "          dataTable['output_type'] = 'display_data';\n",
              "          await google.colab.output.renderOutput(dataTable, element);\n",
              "          const docLink = document.createElement('div');\n",
              "          docLink.innerHTML = docLinkHtml;\n",
              "          element.appendChild(docLink);\n",
              "        }\n",
              "      </script>\n",
              "    </div>\n",
              "  </div>\n",
              "  "
            ],
            "text/plain": [
              "   seq_TEMP         A         C         E         I         K         L  \\\n",
              "0        26  0.128743  0.023952  0.059880  0.041916  0.017964  0.083832   \n",
              "1        30  0.076923  0.008547  0.094017  0.065527  0.068376  0.096866   \n",
              "2        74  0.043937  0.001757  0.072056  0.108963  0.077329  0.075571   \n",
              "3        90  0.066055  0.009174  0.102752  0.047706  0.051376  0.095413   \n",
              "4        29  0.067146  0.007194  0.086331  0.074341  0.050360  0.076739   \n",
              "\n",
              "          N         Q         R  ...  Normalized van der Waals Volume-T2332  \\\n",
              "0  0.020958  0.020958  0.083832  ...                               0.156156   \n",
              "1  0.051282  0.025641  0.031339  ...                               0.180000   \n",
              "2  0.047452  0.015817  0.038664  ...                               0.209507   \n",
              "3  0.011009  0.020183  0.106422  ...                               0.200368   \n",
              "4  0.047962  0.069544  0.045564  ...                               0.197115   \n",
              "\n",
              "   Polarity-T1331  Polarizability-T2332  Charge-T1221  Charge-T1331  \\\n",
              "0        0.213213              0.189189      0.150150      0.048048   \n",
              "1        0.262857              0.200000      0.165714      0.034286   \n",
              "2        0.278169              0.228873      0.181338      0.026408   \n",
              "3        0.257353              0.250000      0.213235      0.053309   \n",
              "4        0.204327              0.209135      0.149038      0.028846   \n",
              "\n",
              "   Solvent accessibility-T1221  Hydrophobicity_CASG920101-G1D100  \\\n",
              "0                     0.237237                          100.0000   \n",
              "1                     0.265714                           99.7151   \n",
              "2                     0.288732                          100.0000   \n",
              "3                     0.321691                          100.0000   \n",
              "4                     0.257212                          100.0000   \n",
              "\n",
              "   Hydrophobicity_FASG890101-G1D100  Normalized van der Waals Volume-G1D100  \\\n",
              "0                        100.000000                              100.000000   \n",
              "1                         98.005698                              100.000000   \n",
              "2                        100.000000                               98.242531   \n",
              "3                        100.000000                               99.816514   \n",
              "4                        100.000000                              100.000000   \n",
              "\n",
              "   Charge-G2D100  \n",
              "0     100.000000  \n",
              "1     100.000000  \n",
              "2     100.000000  \n",
              "3      99.816514  \n",
              "4     100.000000  \n",
              "\n",
              "[5 rows x 501 columns]"
            ]
          },
          "execution_count": 31,
          "metadata": {},
          "output_type": "execute_result"
        }
      ],
      "source": [
        "#Train data set consists of X_train_ig (with 500 features selected by Information Gain in Feature Selection notebook) and y_train\n",
        "data_train_ig.head()"
      ]
    },
    {
      "cell_type": "code",
      "execution_count": null,
      "metadata": {
        "colab": {
          "base_uri": "https://localhost:8080/"
        },
        "id": "CFoEa09WQPbE",
        "outputId": "44dfff9d-9172-4b6b-b087-3c8b08dadd19"
      },
      "outputs": [
        {
          "data": {
            "text/plain": [
              "(2041, 501)"
            ]
          },
          "execution_count": 32,
          "metadata": {},
          "output_type": "execute_result"
        }
      ],
      "source": [
        "#The training set consists of 2,041 observations\n",
        "data_train_ig.shape"
      ]
    },
    {
      "cell_type": "markdown",
      "source": [
        "# **Generate synthetic values**"
      ],
      "metadata": {
        "id": "QywpaTqmMtuM"
      }
    },
    {
      "cell_type": "markdown",
      "source": [
        "Random Oversampling (RO): duplicates randomly selected rare values and leaves normal domain values unchanged. The amount of oversampling is determined until the rare domain equals in size to the normal domain (relevance threshold is 0.5). The code is borrowed from https://github.com/paobranco/ImbalancedLearningRegression.git "
      ],
      "metadata": {
        "id": "3VcBFWonOOoc"
      }
    },
    {
      "cell_type": "code",
      "execution_count": null,
      "metadata": {
        "colab": {
          "base_uri": "https://localhost:8080/"
        },
        "id": "-53bpD3ZQCpG",
        "outputId": "56e3a9d3-ba81-4835-f792-4bc558c41352"
      },
      "outputs": [
        {
          "name": "stderr",
          "output_type": "stream",
          "text": [
            "r_index: 100%|##########| 543/543 [00:05<00:00, 96.98it/s]\n"
          ]
        }
      ],
      "source": [
        "##Conduct ro\n",
        "data_train_ro = iblr.ro(\n",
        "    \n",
        "    data = data_train_ig,  ## pandas dataframe\n",
        " \n",
        "    y = 'seq_TEMP'  ## string ('header name')\n",
        ")"
      ]
    },
    {
      "cell_type": "code",
      "execution_count": null,
      "metadata": {
        "colab": {
          "base_uri": "https://localhost:8080/",
          "height": 369
        },
        "id": "7OMbV74Mehv2",
        "outputId": "9fc83fc1-b98b-4259-de69-55b0db06ec07"
      },
      "outputs": [
        {
          "data": {
            "text/html": [
              "\n",
              "  <div id=\"df-b18d2dd2-b497-4181-9f94-80804b2c7744\">\n",
              "    <div class=\"colab-df-container\">\n",
              "      <div>\n",
              "<style scoped>\n",
              "    .dataframe tbody tr th:only-of-type {\n",
              "        vertical-align: middle;\n",
              "    }\n",
              "\n",
              "    .dataframe tbody tr th {\n",
              "        vertical-align: top;\n",
              "    }\n",
              "\n",
              "    .dataframe thead th {\n",
              "        text-align: right;\n",
              "    }\n",
              "</style>\n",
              "<table border=\"1\" class=\"dataframe\">\n",
              "  <thead>\n",
              "    <tr style=\"text-align: right;\">\n",
              "      <th></th>\n",
              "      <th>seq_TEMP</th>\n",
              "      <th>A</th>\n",
              "      <th>C</th>\n",
              "      <th>E</th>\n",
              "      <th>I</th>\n",
              "      <th>K</th>\n",
              "      <th>L</th>\n",
              "      <th>N</th>\n",
              "      <th>Q</th>\n",
              "      <th>R</th>\n",
              "      <th>...</th>\n",
              "      <th>Normalized van der Waals Volume-T2332</th>\n",
              "      <th>Polarity-T1331</th>\n",
              "      <th>Polarizability-T2332</th>\n",
              "      <th>Charge-T1221</th>\n",
              "      <th>Charge-T1331</th>\n",
              "      <th>Solvent accessibility-T1221</th>\n",
              "      <th>Hydrophobicity_CASG920101-G1D100</th>\n",
              "      <th>Hydrophobicity_FASG890101-G1D100</th>\n",
              "      <th>Normalized van der Waals Volume-G1D100</th>\n",
              "      <th>Charge-G2D100</th>\n",
              "    </tr>\n",
              "  </thead>\n",
              "  <tbody>\n",
              "    <tr>\n",
              "      <th>0</th>\n",
              "      <td>52</td>\n",
              "      <td>0.080292</td>\n",
              "      <td>0.004866</td>\n",
              "      <td>0.026764</td>\n",
              "      <td>0.046229</td>\n",
              "      <td>0.017032</td>\n",
              "      <td>0.038929</td>\n",
              "      <td>0.065693</td>\n",
              "      <td>0.043796</td>\n",
              "      <td>0.034063</td>\n",
              "      <td>...</td>\n",
              "      <td>0.136585</td>\n",
              "      <td>0.204878</td>\n",
              "      <td>0.158537</td>\n",
              "      <td>0.085366</td>\n",
              "      <td>0.007317</td>\n",
              "      <td>0.231707</td>\n",
              "      <td>100.000000</td>\n",
              "      <td>99.756691</td>\n",
              "      <td>100.000000</td>\n",
              "      <td>100.000000</td>\n",
              "    </tr>\n",
              "    <tr>\n",
              "      <th>1</th>\n",
              "      <td>53</td>\n",
              "      <td>0.062147</td>\n",
              "      <td>0.011299</td>\n",
              "      <td>0.079096</td>\n",
              "      <td>0.080979</td>\n",
              "      <td>0.058380</td>\n",
              "      <td>0.084746</td>\n",
              "      <td>0.035782</td>\n",
              "      <td>0.035782</td>\n",
              "      <td>0.060264</td>\n",
              "      <td>...</td>\n",
              "      <td>0.211321</td>\n",
              "      <td>0.281132</td>\n",
              "      <td>0.252830</td>\n",
              "      <td>0.184906</td>\n",
              "      <td>0.043396</td>\n",
              "      <td>0.320755</td>\n",
              "      <td>100.000000</td>\n",
              "      <td>100.000000</td>\n",
              "      <td>99.435028</td>\n",
              "      <td>99.623352</td>\n",
              "    </tr>\n",
              "    <tr>\n",
              "      <th>2</th>\n",
              "      <td>53</td>\n",
              "      <td>0.093750</td>\n",
              "      <td>0.004808</td>\n",
              "      <td>0.072115</td>\n",
              "      <td>0.057692</td>\n",
              "      <td>0.026442</td>\n",
              "      <td>0.100962</td>\n",
              "      <td>0.028846</td>\n",
              "      <td>0.031250</td>\n",
              "      <td>0.074519</td>\n",
              "      <td>...</td>\n",
              "      <td>0.187952</td>\n",
              "      <td>0.257831</td>\n",
              "      <td>0.219277</td>\n",
              "      <td>0.151807</td>\n",
              "      <td>0.031325</td>\n",
              "      <td>0.293976</td>\n",
              "      <td>99.759615</td>\n",
              "      <td>99.038462</td>\n",
              "      <td>99.759615</td>\n",
              "      <td>100.000000</td>\n",
              "    </tr>\n",
              "    <tr>\n",
              "      <th>3</th>\n",
              "      <td>53</td>\n",
              "      <td>0.144495</td>\n",
              "      <td>0.013761</td>\n",
              "      <td>0.059633</td>\n",
              "      <td>0.018349</td>\n",
              "      <td>0.011468</td>\n",
              "      <td>0.146789</td>\n",
              "      <td>0.016055</td>\n",
              "      <td>0.006881</td>\n",
              "      <td>0.121560</td>\n",
              "      <td>...</td>\n",
              "      <td>0.140230</td>\n",
              "      <td>0.200000</td>\n",
              "      <td>0.177011</td>\n",
              "      <td>0.209195</td>\n",
              "      <td>0.025287</td>\n",
              "      <td>0.298851</td>\n",
              "      <td>100.000000</td>\n",
              "      <td>100.000000</td>\n",
              "      <td>100.000000</td>\n",
              "      <td>100.000000</td>\n",
              "    </tr>\n",
              "    <tr>\n",
              "      <th>4</th>\n",
              "      <td>54</td>\n",
              "      <td>0.080645</td>\n",
              "      <td>0.010081</td>\n",
              "      <td>0.092742</td>\n",
              "      <td>0.046371</td>\n",
              "      <td>0.040323</td>\n",
              "      <td>0.086694</td>\n",
              "      <td>0.034274</td>\n",
              "      <td>0.034274</td>\n",
              "      <td>0.062500</td>\n",
              "      <td>...</td>\n",
              "      <td>0.187879</td>\n",
              "      <td>0.274747</td>\n",
              "      <td>0.222222</td>\n",
              "      <td>0.167677</td>\n",
              "      <td>0.024242</td>\n",
              "      <td>0.307071</td>\n",
              "      <td>100.000000</td>\n",
              "      <td>100.000000</td>\n",
              "      <td>99.798387</td>\n",
              "      <td>99.798387</td>\n",
              "    </tr>\n",
              "  </tbody>\n",
              "</table>\n",
              "<p>5 rows × 501 columns</p>\n",
              "</div>\n",
              "      <button class=\"colab-df-convert\" onclick=\"convertToInteractive('df-b18d2dd2-b497-4181-9f94-80804b2c7744')\"\n",
              "              title=\"Convert this dataframe to an interactive table.\"\n",
              "              style=\"display:none;\">\n",
              "        \n",
              "  <svg xmlns=\"http://www.w3.org/2000/svg\" height=\"24px\"viewBox=\"0 0 24 24\"\n",
              "       width=\"24px\">\n",
              "    <path d=\"M0 0h24v24H0V0z\" fill=\"none\"/>\n",
              "    <path d=\"M18.56 5.44l.94 2.06.94-2.06 2.06-.94-2.06-.94-.94-2.06-.94 2.06-2.06.94zm-11 1L8.5 8.5l.94-2.06 2.06-.94-2.06-.94L8.5 2.5l-.94 2.06-2.06.94zm10 10l.94 2.06.94-2.06 2.06-.94-2.06-.94-.94-2.06-.94 2.06-2.06.94z\"/><path d=\"M17.41 7.96l-1.37-1.37c-.4-.4-.92-.59-1.43-.59-.52 0-1.04.2-1.43.59L10.3 9.45l-7.72 7.72c-.78.78-.78 2.05 0 2.83L4 21.41c.39.39.9.59 1.41.59.51 0 1.02-.2 1.41-.59l7.78-7.78 2.81-2.81c.8-.78.8-2.07 0-2.86zM5.41 20L4 18.59l7.72-7.72 1.47 1.35L5.41 20z\"/>\n",
              "  </svg>\n",
              "      </button>\n",
              "      \n",
              "  <style>\n",
              "    .colab-df-container {\n",
              "      display:flex;\n",
              "      flex-wrap:wrap;\n",
              "      gap: 12px;\n",
              "    }\n",
              "\n",
              "    .colab-df-convert {\n",
              "      background-color: #E8F0FE;\n",
              "      border: none;\n",
              "      border-radius: 50%;\n",
              "      cursor: pointer;\n",
              "      display: none;\n",
              "      fill: #1967D2;\n",
              "      height: 32px;\n",
              "      padding: 0 0 0 0;\n",
              "      width: 32px;\n",
              "    }\n",
              "\n",
              "    .colab-df-convert:hover {\n",
              "      background-color: #E2EBFA;\n",
              "      box-shadow: 0px 1px 2px rgba(60, 64, 67, 0.3), 0px 1px 3px 1px rgba(60, 64, 67, 0.15);\n",
              "      fill: #174EA6;\n",
              "    }\n",
              "\n",
              "    [theme=dark] .colab-df-convert {\n",
              "      background-color: #3B4455;\n",
              "      fill: #D2E3FC;\n",
              "    }\n",
              "\n",
              "    [theme=dark] .colab-df-convert:hover {\n",
              "      background-color: #434B5C;\n",
              "      box-shadow: 0px 1px 3px 1px rgba(0, 0, 0, 0.15);\n",
              "      filter: drop-shadow(0px 1px 2px rgba(0, 0, 0, 0.3));\n",
              "      fill: #FFFFFF;\n",
              "    }\n",
              "  </style>\n",
              "\n",
              "      <script>\n",
              "        const buttonEl =\n",
              "          document.querySelector('#df-b18d2dd2-b497-4181-9f94-80804b2c7744 button.colab-df-convert');\n",
              "        buttonEl.style.display =\n",
              "          google.colab.kernel.accessAllowed ? 'block' : 'none';\n",
              "\n",
              "        async function convertToInteractive(key) {\n",
              "          const element = document.querySelector('#df-b18d2dd2-b497-4181-9f94-80804b2c7744');\n",
              "          const dataTable =\n",
              "            await google.colab.kernel.invokeFunction('convertToInteractive',\n",
              "                                                     [key], {});\n",
              "          if (!dataTable) return;\n",
              "\n",
              "          const docLinkHtml = 'Like what you see? Visit the ' +\n",
              "            '<a target=\"_blank\" href=https://colab.research.google.com/notebooks/data_table.ipynb>data table notebook</a>'\n",
              "            + ' to learn more about interactive tables.';\n",
              "          element.innerHTML = '';\n",
              "          dataTable['output_type'] = 'display_data';\n",
              "          await google.colab.output.renderOutput(dataTable, element);\n",
              "          const docLink = document.createElement('div');\n",
              "          docLink.innerHTML = docLinkHtml;\n",
              "          element.appendChild(docLink);\n",
              "        }\n",
              "      </script>\n",
              "    </div>\n",
              "  </div>\n",
              "  "
            ],
            "text/plain": [
              "   seq_TEMP         A         C         E         I         K         L  \\\n",
              "0        52  0.080292  0.004866  0.026764  0.046229  0.017032  0.038929   \n",
              "1        53  0.062147  0.011299  0.079096  0.080979  0.058380  0.084746   \n",
              "2        53  0.093750  0.004808  0.072115  0.057692  0.026442  0.100962   \n",
              "3        53  0.144495  0.013761  0.059633  0.018349  0.011468  0.146789   \n",
              "4        54  0.080645  0.010081  0.092742  0.046371  0.040323  0.086694   \n",
              "\n",
              "          N         Q         R  ...  Normalized van der Waals Volume-T2332  \\\n",
              "0  0.065693  0.043796  0.034063  ...                               0.136585   \n",
              "1  0.035782  0.035782  0.060264  ...                               0.211321   \n",
              "2  0.028846  0.031250  0.074519  ...                               0.187952   \n",
              "3  0.016055  0.006881  0.121560  ...                               0.140230   \n",
              "4  0.034274  0.034274  0.062500  ...                               0.187879   \n",
              "\n",
              "   Polarity-T1331  Polarizability-T2332  Charge-T1221  Charge-T1331  \\\n",
              "0        0.204878              0.158537      0.085366      0.007317   \n",
              "1        0.281132              0.252830      0.184906      0.043396   \n",
              "2        0.257831              0.219277      0.151807      0.031325   \n",
              "3        0.200000              0.177011      0.209195      0.025287   \n",
              "4        0.274747              0.222222      0.167677      0.024242   \n",
              "\n",
              "   Solvent accessibility-T1221  Hydrophobicity_CASG920101-G1D100  \\\n",
              "0                     0.231707                        100.000000   \n",
              "1                     0.320755                        100.000000   \n",
              "2                     0.293976                         99.759615   \n",
              "3                     0.298851                        100.000000   \n",
              "4                     0.307071                        100.000000   \n",
              "\n",
              "   Hydrophobicity_FASG890101-G1D100  Normalized van der Waals Volume-G1D100  \\\n",
              "0                         99.756691                              100.000000   \n",
              "1                        100.000000                               99.435028   \n",
              "2                         99.038462                               99.759615   \n",
              "3                        100.000000                              100.000000   \n",
              "4                        100.000000                               99.798387   \n",
              "\n",
              "   Charge-G2D100  \n",
              "0     100.000000  \n",
              "1      99.623352  \n",
              "2     100.000000  \n",
              "3     100.000000  \n",
              "4      99.798387  \n",
              "\n",
              "[5 rows x 501 columns]"
            ]
          },
          "execution_count": 92,
          "metadata": {},
          "output_type": "execute_result"
        }
      ],
      "source": [
        "data_train_ro.head()"
      ]
    },
    {
      "cell_type": "code",
      "execution_count": null,
      "metadata": {
        "colab": {
          "base_uri": "https://localhost:8080/"
        },
        "id": "pWAyEqvpQk83",
        "outputId": "19f6bd94-030a-44ce-db89-a7010f489287"
      },
      "outputs": [
        {
          "data": {
            "text/plain": [
              "(2584, 501)"
            ]
          },
          "execution_count": 34,
          "metadata": {},
          "output_type": "execute_result"
        }
      ],
      "source": [
        "#The training set increased from 2,041 to 2,584 observations\n",
        "data_train_ro.shape"
      ]
    },
    {
      "cell_type": "markdown",
      "source": [
        "# **Distribution of RO vs Original**"
      ],
      "metadata": {
        "id": "2t2L0-aNcnsm"
      }
    },
    {
      "cell_type": "markdown",
      "source": [
        "To compare the distribution of Topt in the original and oversampled sets."
      ],
      "metadata": {
        "id": "FyLnr9WkeKtm"
      }
    },
    {
      "cell_type": "code",
      "execution_count": null,
      "metadata": {
        "id": "1SauwpkyWiiv"
      },
      "outputs": [],
      "source": [
        "#Define X and y for the resampled training set\n",
        "X_train_ro = data_train_ro.drop(['seq_TEMP'], axis = 1)\n",
        "y_train_ro = data_train_ro['seq_TEMP']"
      ]
    },
    {
      "cell_type": "code",
      "execution_count": null,
      "metadata": {
        "colab": {
          "base_uri": "https://localhost:8080/",
          "height": 495
        },
        "id": "L6wO6T_LG01j",
        "outputId": "3fdf78f7-3024-4391-b2ad-155e52082349"
      },
      "outputs": [
        {
          "data": {
            "text/plain": [
              "Text(0, 0.5, 'Density')"
            ]
          },
          "execution_count": 44,
          "metadata": {},
          "output_type": "execute_result"
        },
        {
          "data": {
            "image/png": "[encoded data removed]",
            "text/plain": [
              "<Figure size 640x480 with 1 Axes>"
            ]
          },
          "metadata": {},
          "output_type": "display_data"
        }
      ],
      "source": [
        "##Plot y distribution \n",
        "sns.set_style(\"white\")\n",
        "sns.kdeplot(data_train_ig['seq_TEMP'], label = \"Original\", color=\"grey\")\n",
        "sns.kdeplot(data_train_ro['seq_TEMP'], label = \"RO\")\n",
        "plt.legend(labels=[\"Original\",\"RO\"])\n",
        "plt.xlabel(\"Topt (°C)\")\n",
        "plt.ylabel(\"Density\")\n",
        "#plt.title(\"Distribution of RO vs Original\")"
      ]
    },
    {
      "cell_type": "markdown",
      "source": [
        "# **t-SNE for selected features**"
      ],
      "metadata": {
        "id": "u1NlxceeS407"
      }
    },
    {
      "cell_type": "markdown",
      "source": [
        "T-SNE is applied to visualize the distribution of the resampled testing data into two-dimensional scale."
      ],
      "metadata": {
        "id": "i6dMC0f1dq8x"
      }
    },
    {
      "cell_type": "code",
      "execution_count": null,
      "metadata": {
        "id": "0FF4BauCfDE3"
      },
      "outputs": [],
      "source": [
        "scaler = StandardScaler()\n",
        "\n",
        "data_train_ro_sc = scaler.fit_transform(data_train_ro.drop(['seq_TEMP'], axis=1))\n",
        "\n",
        "embedding_ro = TSNE(n_components=2)\n",
        "\n",
        "# transform on features\n",
        "new_tsne_ro = embedding.fit_transform(data_train_ro_sc)\n",
        "\n",
        "# reconstruct dataframe\n",
        "new_tsne_ro = pd.DataFrame(new_tsne_ro, columns=[f\"TSNE{i+1}\" for i in range(new_tsne_ro.shape[1])])\n",
        "new_tsne_ro[\"seq_TEMP\"] = data_train_ro[\"seq_TEMP\"]"
      ]
    },
    {
      "cell_type": "code",
      "execution_count": null,
      "metadata": {
        "colab": {
          "base_uri": "https://localhost:8080/",
          "height": 508
        },
        "id": "2uV9K3dkfDE_",
        "outputId": "2a9d285c-6049-4f81-b84b-b92fade2f2f3"
      },
      "outputs": [
        {
          "data": {
            "image/png": "[encoded data removed]",
            "text/plain": [
              "<Figure size 640x480 with 1 Axes>"
            ]
          },
          "metadata": {},
          "output_type": "display_data"
        }
      ],
      "source": [
        "#Code for displaying principal components\n",
        "sns.set_style(\"white\")\n",
        "plt.scatter(new_tsne_ro.TSNE1, new_tsne_ro.TSNE2, s=5)\n",
        "plt.xlabel(\"t-SNE 1\")\n",
        "plt.ylabel(\"t-SNE 2\")\n",
        "plt.title(\"Random Oversampling\")\n",
        "plt.show()"
      ]
    }
  ]
}